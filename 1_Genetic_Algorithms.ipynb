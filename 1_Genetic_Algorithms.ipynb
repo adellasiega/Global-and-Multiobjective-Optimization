{
 "cells": [
  {
   "cell_type": "markdown",
   "metadata": {},
   "source": [
    "# Genetic Algorithms\n",
    "\n",
    "Suppose that we have the following maximization problem:\n",
    "$$\n",
    "    \\underset{x \\in \\mathbb{S}}{\\operatorname{\\argmax}} \\; f(x)\n",
    "$$\n",
    "where $x$ must satisfy fixed constraints. \n",
    "\n",
    "Define $\\mathbb{S}$ as the set of solutions, i.e. the $x$ that satisfy the costraints.\n",
    "Assume that $\\mathbb{S}$ is not empty and let $x_1, \\dots, x_N$ be a set of sub-optimal. This subset is called **population** and each element of this subset is called **inidvidual**. As we did in single state methods, our goal is to improve our candidate solution.\n",
    "\n",
    "The **genotype** of a solution $x$ is the representation of that solution (e.g. the data structure used to encode $x$, in OneMax is a string of bits).\n",
    "\n",
    "The **phenotype** of a solution $x$ is a decoding of its genotype (e.g. the number written in base 10).\n",
    "\n",
    "A genetic algorithm is an algorithm whose flow can be represented as follows:\n",
    "\n",
    "<img src=\"img/ga_flow.png\" alt=\"GA flow\" width=\"600\"/>\n",
    "\n",
    "Generally, a genetic algorithm consists of:\n",
    "\n",
    "- a **genetic representation** of the individuals;\n",
    "\n",
    "- a **fitness function** that evaluates each individual;\n",
    "\n",
    "- an **initialization** method, it generates a population of fixed size;\n",
    "\n",
    "- a **selection** method, it replaces the individuals with lower fitness value with the ones with higher fitness, this method is based on the phenotype of a solution;\n",
    "\n",
    "- a **crossover** method, it consists in merging the genotypes of two individuals in order to create two new individuals which will replace the old ones;\n",
    "\n",
    "- **mutation** type, a mutation is a stochastic modification that happens to the genotype of an individual with a given probability,\n",
    "\n",
    "- a **termination criterium**.\n",
    "\n"
   ]
  },
  {
   "cell_type": "markdown",
   "metadata": {},
   "source": [
    "# GA for OneMax\n",
    "Let's apply a GA to the OneMax problem."
   ]
  },
  {
   "cell_type": "code",
   "execution_count": 1,
   "metadata": {},
   "outputs": [],
   "source": [
    "import random\n",
    "\n",
    "class OneMaxProblem:\n",
    "    '''\n",
    "        A simple class for the OneMax problem.\n",
    "    '''\n",
    "    def __init__(self, n):\n",
    "        self.n = n\n",
    "\n",
    "    def fitness(self, x):\n",
    "        return len([digit for digit in x if digit == 1])\n",
    "    \n",
    "    def random_solution(self):\n",
    "        return [random.randint(0, 1) for _ in range(self.n)]"
   ]
  },
  {
   "cell_type": "markdown",
   "metadata": {},
   "source": [
    "## Population generation\n",
    "\n",
    "Let's start from randomly generating a population $\\mathbb{P} = \\{x_1,\\dots, x_N\\}$"
   ]
  },
  {
   "cell_type": "code",
   "execution_count": 2,
   "metadata": {},
   "outputs": [],
   "source": [
    "problem = OneMaxProblem(10)\n",
    "N = 20 # population size\n",
    "population = [problem.random_solution() for _ in range(N)]"
   ]
  },
  {
   "cell_type": "markdown",
   "metadata": {},
   "source": [
    "## Selection methods\n",
    "\n",
    "### Roulette wheel selection\n",
    "The probability of an individual to be selected is proportional to its fitness:\n",
    "$$\n",
    "    p(x) = \\frac{f(x)}{\\sum_{y \\in \\mathbb{P}} f(y)}\n",
    "$$"
   ]
  },
  {
   "cell_type": "code",
   "execution_count": 3,
   "metadata": {},
   "outputs": [],
   "source": [
    "import random\n",
    "\n",
    "def roulette_wheel_selection(population, fitness):\n",
    "    '''\n",
    "        Selects a solution from the population using the roulette wheel selection.\n",
    "    '''\n",
    "    total_fitness = sum([fitness(x) for x in population])\n",
    "    probabilities = [fitness(x) / total_fitness for x in population]\n",
    "    selected = random.choices(population, weights=probabilities, k=len(population))\n",
    "    return selected"
   ]
  },
  {
   "cell_type": "markdown",
   "metadata": {},
   "source": [
    "### Ranked selection \n",
    "\n",
    "The probability of an individual to be selected is inversely proprotional to its rank (w.r.t. their fitness values). Let \n",
    "$$\n",
    "    rank(x) \\in \\{1 \\dots N\\}\n",
    "$$\n",
    "\n",
    "be the rank of the solution $x$. The probability of $x$ of being selected is \n",
    "\n",
    "$$\n",
    "    p(x) = \\frac{1}{N}\\left( \\gamma - (2 \\gamma -2) \\frac{rank(x)-1}{N-1} \\right)\n",
    "$$\n",
    "\n",
    "where $1 \\leq \\gamma \\leq 2$ is known as selection pressure."
   ]
  },
  {
   "cell_type": "code",
   "execution_count": 4,
   "metadata": {},
   "outputs": [],
   "source": [
    "def ranked_selection(population, fitness, gamma=1.5):\n",
    "    '''\n",
    "        Selects a solution from the population using the ranked selection.\n",
    "    '''\n",
    "    population.sort(key=lambda x: fitness(x), reverse=True)\n",
    "    N = len(population)\n",
    "    probabilities = [(gamma-(2*gamma-2)*(i-1)/(N-1))/N for i in range(N)]\n",
    "    selected = random.choices(population, weights=probabilities, k=N)\n",
    "    return selected"
   ]
  },
  {
   "cell_type": "markdown",
   "metadata": {},
   "source": [
    "### Tournament selection\n",
    "\n",
    "Let us define $t \\in {1,2,\\dots, N}$ as the tournament size. Now, we randomly extract $t$ individuals from the population and we select the individual with the best fitness. The selection pressure can be tuned via tournament size. A low tournament size implies a low selection pressure."
   ]
  },
  {
   "cell_type": "code",
   "execution_count": 5,
   "metadata": {},
   "outputs": [],
   "source": [
    "def tournament_selection(population, fitness, t = 5):\n",
    "    '''\n",
    "        Selects a solution from the population using the tournament selection.\n",
    "    '''\n",
    "    selected = []\n",
    "    for _ in range(len(population)):\n",
    "        tournament = random.choices(population, k=t)\n",
    "        tournament.sort(key=lambda x: fitness(x), reverse=True)\n",
    "        selected.append(tournament[0])\n",
    "    return selected"
   ]
  },
  {
   "cell_type": "markdown",
   "metadata": {},
   "source": [
    "## Crossover methods"
   ]
  },
  {
   "cell_type": "markdown",
   "metadata": {},
   "source": [
    "### One-point crossover\n",
    "\n",
    "Given two parent solutions, represented using bits, \n",
    "$$\n",
    "    x = x^1 \\ x^2 \\ \\dots x^n \\\\\n",
    "    y = y^1 \\ y^2 \\dots y^n\n",
    "$$\n",
    "we select a crossover point $k \\in {1,\\dots,n}$ uniformly at random.\n",
    "The offspring are\n",
    "$$\n",
    "    x_{new} = x^1 \\dots x^k \\ y^{k+1} \\ \\dots y^n \\\\\n",
    "    y_{new} = y^1 \\dots y^k \\ x^{k+1} \\ \\dots x^n \n",
    "$$\n",
    "A generalization of one-point crossover where more than one si selected. In particular $m$ points $k_1, \\dots, k_m \\in \\{1, \\dots, n\\}$ are selected and the elements of the two parents are swapped between each paoinr of consecutive crossover points."
   ]
  },
  {
   "cell_type": "code",
   "execution_count": 6,
   "metadata": {},
   "outputs": [],
   "source": [
    "def onepoint_crossover(x, y):\n",
    "    '''\n",
    "        Performs a one-point crossover between x and y.\n",
    "    '''\n",
    "    n = len(x)\n",
    "    c = random.randint(0, n-1)\n",
    "    x_new = x[:c] + y[c:]\n",
    "    y_new = y[:c] + x[c:]\n",
    "    return x_new, y_new\n",
    "\n",
    "def kpoints_crossover(x, y, k):\n",
    "    '''\n",
    "        Performs a k-points crossover between x and y.\n",
    "    '''\n",
    "    n = len(x)\n",
    "    c = sorted(random.sample(range(1, n), k))\n",
    "    for i in range(k):\n",
    "        x_new = x[:c[i]] + y[c[i]:c[i+1]] + x[c[i+1]:]\n",
    "        y_new = y[:c[i]] + x[c[i]:c[i+1]] + y[c[i+1]:]\n",
    "    \n",
    "    return x_new, y_new"
   ]
  },
  {
   "cell_type": "markdown",
   "metadata": {},
   "source": [
    "### Uniform crossover\n",
    "\n",
    "For each $i \\in \\{1,\\dots,n\\}$, with probability $0.5$ the $i^{th}$ element in the first offspring will be $x^i$, otherwise $y_i$. In the second offspring, the $i^{th}$ element is $y_i$, if $x^i$ was chosen in the first offspring and vice versa. "
   ]
  },
  {
   "cell_type": "code",
   "execution_count": 7,
   "metadata": {},
   "outputs": [],
   "source": [
    "def uniform_crossover(x, y):\n",
    "    '''\n",
    "        Performs a uniform crossover between x and y.\n",
    "    '''\n",
    "    n = len(x)\n",
    "    x_new = [x[i] if random.random() < 0.5 else y[i] for i in range(n)]\n",
    "    y_new = [y[i] if random.random() < 0.5 else x[i] for i in range(n)]\n",
    "    return x_new, y_new\n"
   ]
  },
  {
   "cell_type": "markdown",
   "metadata": {},
   "source": [
    "## Mutation\n",
    "Given a solution\n",
    "$$\n",
    "    x = x^1 \\ x^2 \\ \\dots x^n\n",
    "$$\n",
    "each bit $x^i$ is flipped with probability $p_{mut}$ (usually $p_{mut} = 1/n$)."
   ]
  },
  {
   "cell_type": "code",
   "execution_count": 8,
   "metadata": {},
   "outputs": [],
   "source": [
    "def mutation(x, p):\n",
    "    '''\n",
    "        Performs a mutation on x with probability p.\n",
    "    '''\n",
    "    n = len(x)\n",
    "    x_new = [x[i] if random.random() > p else 1-x[i] for i in range(n)]\n",
    "    return x_new"
   ]
  },
  {
   "cell_type": "markdown",
   "metadata": {},
   "source": [
    "## GA implementation"
   ]
  },
  {
   "cell_type": "code",
   "execution_count": 9,
   "metadata": {},
   "outputs": [],
   "source": [
    "def best_individual(population, fitness):\n",
    "    '''\n",
    "        Returns the best individual from the population.\n",
    "    '''\n",
    "    return max(population, key=fitness)"
   ]
  },
  {
   "cell_type": "code",
   "execution_count": 10,
   "metadata": {},
   "outputs": [],
   "source": [
    "def genetic_algorithm(starting_population, fitness, selection, crossover, mutation, p_c, p_m, max_iter=10):\n",
    "    '''\n",
    "        Runs the genetic algorithm.\n",
    "    '''\n",
    "    population = starting_population.copy()\n",
    "    \n",
    "    for iter in range(max_iter):\n",
    "        print(f\"Generation {iter}, best individual: {best_individual(population, fitness)} with fitness {fitness(best_individual(population, fitness))}\")\n",
    "        population = selection(population, fitness)\n",
    "        for i in range(0, len(population), 2):\n",
    "            if random.random() < p_c:\n",
    "                population[i], population[i+1] = crossover(population[i], population[i+1])\n",
    "        population = [mutation(x, p_m) for x in population]\n",
    "    \n",
    "    return best_individual(population, fitness)"
   ]
  },
  {
   "cell_type": "code",
   "execution_count": 11,
   "metadata": {},
   "outputs": [
    {
     "name": "stdout",
     "output_type": "stream",
     "text": [
      "Generation 0, best individual: [1, 0, 1, 1, 1, 1, 0, 1, 1, 1] with fitness 8\n",
      "Generation 1, best individual: [1, 0, 1, 1, 1, 1, 0, 1, 1, 1] with fitness 8\n",
      "Generation 2, best individual: [1, 1, 1, 0, 1, 1, 1, 1, 1, 1] with fitness 9\n",
      "Generation 3, best individual: [1, 1, 1, 0, 1, 1, 1, 1, 1, 1] with fitness 9\n",
      "Generation 4, best individual: [1, 1, 1, 1, 1, 1, 1, 1, 1, 1] with fitness 10\n",
      "Generation 5, best individual: [1, 1, 1, 1, 1, 1, 1, 1, 1, 1] with fitness 10\n",
      "Generation 6, best individual: [1, 1, 1, 1, 1, 1, 1, 1, 1, 1] with fitness 10\n",
      "Generation 7, best individual: [1, 1, 1, 1, 1, 1, 1, 1, 1, 1] with fitness 10\n",
      "Generation 8, best individual: [1, 1, 1, 1, 1, 1, 1, 1, 1, 1] with fitness 10\n",
      "Generation 9, best individual: [1, 1, 1, 1, 1, 1, 1, 1, 1, 1] with fitness 10\n"
     ]
    }
   ],
   "source": [
    "solution = genetic_algorithm(population, problem.fitness, tournament_selection, onepoint_crossover, mutation, 0.8, 0.01)"
   ]
  },
  {
   "cell_type": "code",
   "execution_count": 12,
   "metadata": {},
   "outputs": [
    {
     "data": {
      "text/plain": [
       "[1, 1, 1, 1, 1, 1, 1, 1, 1, 1]"
      ]
     },
     "execution_count": 12,
     "metadata": {},
     "output_type": "execute_result"
    }
   ],
   "source": [
    "solution"
   ]
  }
 ],
 "metadata": {
  "kernelspec": {
   "display_name": "base",
   "language": "python",
   "name": "python3"
  },
  "language_info": {
   "codemirror_mode": {
    "name": "ipython",
    "version": 3
   },
   "file_extension": ".py",
   "mimetype": "text/x-python",
   "name": "python",
   "nbconvert_exporter": "python",
   "pygments_lexer": "ipython3",
   "version": "3.12.1"
  }
 },
 "nbformat": 4,
 "nbformat_minor": 2
}
