{
 "cells": [
  {
   "cell_type": "markdown",
   "metadata": {},
   "source": [
    "# Analysis"
   ]
  },
  {
   "cell_type": "markdown",
   "metadata": {},
   "source": [
    "We want to analyze the behaviour of the solver according to different\n",
    "distributions of the bricks' height.\n",
    "Let's consider three distributions:\n",
    "* uniform distribution in $(0,10)$\n",
    "* gaussian distribution with mean 10 and standard deviation 1;\n",
    "* multimodal distribution."
   ]
  },
  {
   "cell_type": "code",
   "execution_count": 1,
   "metadata": {},
   "outputs": [],
   "source": [
    "from _solver import GeneticBrickSolver\n",
    "import matplotlib.pyplot as plt\n",
    "import numpy as np\n",
    "random_seed = 123\n",
    "np.random.seed(random_seed)"
   ]
  },
  {
   "cell_type": "markdown",
   "metadata": {},
   "source": [
    "To compare the performance of the solver we will set the parameters as\n",
    "follows:"
   ]
  },
  {
   "cell_type": "code",
   "execution_count": 2,
   "metadata": {},
   "outputs": [],
   "source": [
    "population_size = 25\n",
    "max_generations = 500\n",
    "\n",
    "mutation_rate = 0.1\n",
    "crossover_rate = 0.8\n",
    "k_elitism = population_size//10\n",
    "tournament_size = population_size//10\n",
    "\n",
    "columns_per_individual = 10\n",
    "bricks_per_column = 15\n",
    "number_of_bricks = columns_per_individual*bricks_per_column"
   ]
  },
  {
   "cell_type": "markdown",
   "metadata": {},
   "source": [
    "We need a metric that allows us to compare the performance of the solver on different sets of bricks.\n",
    "\n",
    "The fitness of the best individual found is not an appropriate metric to compare solutions of different problems because it is not scale invariant (i.e. we find always a better fitness value if we just devide by a factor $\\lambda$ the bricks' height).\n",
    "\n",
    "Let's define the following fitness function:\n",
    "$$\n",
    "    f_{\\text{norm}}(C_1,\\dots, C_{n}) \n",
    "    = \\frac{f(C_1,\\dots, C_{n})}{\\bar{h}} \n",
    "    = \\frac{H_{max} -  H_{min}}{\\bar{h}} \n",
    "$$\n",
    "where $f$ is the original fitness function of the problem, $H_{max}$ and $H_{max}$ are respectively the highest column the lowest column of the individual that contains tha columns $C_1,\\dots, C_{n}$ and $\\bar{h}$ is the mean height of the bricks."
   ]
  },
  {
   "cell_type": "markdown",
   "metadata": {},
   "source": [
    "## Uniform Distribution"
   ]
  },
  {
   "cell_type": "code",
   "execution_count": 7,
   "metadata": {},
   "outputs": [],
   "source": [
    "n_iterations = 20"
   ]
  },
  {
   "cell_type": "markdown",
   "metadata": {},
   "source": [
    "Generate uniformly distributed random heights for the bricks from the range $(0, 10)$"
   ]
  },
  {
   "cell_type": "code",
   "execution_count": 8,
   "metadata": {},
   "outputs": [
    {
     "name": "stdout",
     "output_type": "stream",
     "text": [
      "Generation 500/500\n",
      "\n",
      "Uniform distribution\n",
      "Mean f_norm:  0.2373574906535565\n",
      "Standard deviation of f_norm:  0.07529466131557033\n",
      "\n",
      "\n"
     ]
    }
   ],
   "source": [
    "f_norm_values = []\n",
    "for _ in range(n_iterations):\n",
    "    unif_brick_heights = np.random.uniform(0, 10, number_of_bricks)\n",
    "    GBS = GeneticBrickSolver(population_size,\n",
    "                             mutation_rate, \n",
    "                             crossover_rate, \n",
    "                             max_generations, \n",
    "                             tournament_size, \n",
    "                             k_elitism,\n",
    "                             None)\n",
    "    \n",
    "    GBS.solve(unif_brick_heights,\n",
    "              columns_per_individual,\n",
    "              bricks_per_column)\n",
    "    \n",
    "    f_norm_values.append(GBS.fitness_norm(GBS.best_individual))\n",
    "\n",
    "mean_f_norm, std_f_norm = np.mean(f_norm_values), np.std(f_norm_values)\n",
    "\n",
    "print(\"\\n\")\n",
    "print(\"Uniform distribution\")\n",
    "print(\"Mean f_norm: \", mean_f_norm)\n",
    "print(\"Standard deviation of f_norm: \", std_f_norm)\n",
    "print(\"\\n\")\n"
   ]
  },
  {
   "cell_type": "markdown",
   "metadata": {},
   "source": [
    "## Gaussian Distribution"
   ]
  },
  {
   "cell_type": "markdown",
   "metadata": {},
   "source": [
    "Generate gaussian distributed random heights for the bricks from the range with mean 10 and standard deviation 1"
   ]
  },
  {
   "cell_type": "code",
   "execution_count": 9,
   "metadata": {},
   "outputs": [
    {
     "name": "stdout",
     "output_type": "stream",
     "text": [
      "Generation 500/500\n",
      "\n",
      "N(10,1) distribution\n",
      "Mean f_norm:  0.042041439254238096\n",
      "Standard deviation of f_norm:  0.015092554829115833\n",
      "\n",
      "\n"
     ]
    }
   ],
   "source": [
    "f_norm_values = []\n",
    "for _ in range(n_iterations):\n",
    "    gaus_brick_heights = np.random.normal(10, 1, number_of_bricks)\n",
    "    \n",
    "    GBS = GeneticBrickSolver(population_size,\n",
    "                             mutation_rate,\n",
    "                             crossover_rate,\n",
    "                             max_generations,\n",
    "                             tournament_size,\n",
    "                             k_elitism,\n",
    "                             None)\n",
    "    \n",
    "    GBS.solve(gaus_brick_heights,\n",
    "              columns_per_individual,\n",
    "              bricks_per_column)\n",
    "    \n",
    "    f_norm_values.append(GBS.fitness_norm(GBS.best_individual))\n",
    "\n",
    "mean_f_norm, std_f_norm = np.mean(f_norm_values), np.std(f_norm_values)\n",
    "\n",
    "print(\"\\n\")\n",
    "print(\"N(10,1) distribution\")\n",
    "print(\"Mean f_norm: \", mean_f_norm)\n",
    "print(\"Standard deviation of f_norm: \", std_f_norm)\n",
    "print(\"\\n\")\n"
   ]
  },
  {
   "cell_type": "markdown",
   "metadata": {},
   "source": [
    "# Multimodal distribution"
   ]
  },
  {
   "cell_type": "markdown",
   "metadata": {},
   "source": [
    "Generate multimodal distributed random heights for the bricks from the range with mean 10 and standard deviation 1"
   ]
  },
  {
   "cell_type": "code",
   "execution_count": 10,
   "metadata": {},
   "outputs": [
    {
     "name": "stdout",
     "output_type": "stream",
     "text": [
      "Generation 500/500\n",
      "\n",
      "N((5,15), (1,1)) distribution\n",
      "Mean f_norm:  0.288397260013888\n",
      "Standard deviation of f_norm:  0.1040909109726668\n",
      "\n",
      "\n"
     ]
    }
   ],
   "source": [
    "f_norm_values = []\n",
    "for _ in range(n_iterations):\n",
    "    bimod_brick_heights = np.concatenate(\n",
    "        (np.random.normal(5, 1, number_of_bricks//2), \n",
    "         np.random.normal(15, 1, number_of_bricks//2)))\n",
    "    \n",
    "    GBS = GeneticBrickSolver(population_size,\n",
    "                             mutation_rate,\n",
    "                             crossover_rate,\n",
    "                             max_generations,\n",
    "                             tournament_size,\n",
    "                             k_elitism,\n",
    "                             None)\n",
    "    \n",
    "    GBS.solve(bimod_brick_heights,\n",
    "              columns_per_individual,\n",
    "              bricks_per_column)\n",
    "    \n",
    "    f_norm_values.append(GBS.fitness_norm(GBS.best_individual))\n",
    "\n",
    "mean_f_norm, std_f_norm = np.mean(f_norm_values), np.std(f_norm_values)\n",
    "\n",
    "print(\"\\n\")\n",
    "print(\"N((5,15), (1,1)) distribution\")\n",
    "print(\"Mean f_norm: \", mean_f_norm)\n",
    "print(\"Standard deviation of f_norm: \", std_f_norm)\n",
    "print(\"\\n\")"
   ]
  },
  {
   "cell_type": "markdown",
   "metadata": {},
   "source": [
    "# Uniform vs Gaussian distribution"
   ]
  },
  {
   "cell_type": "markdown",
   "metadata": {},
   "source": [
    "Compare the performance of the solver on uniform distribution data and gaussian distribution data as the number of bricks per column increases\n"
   ]
  },
  {
   "cell_type": "code",
   "execution_count": 11,
   "metadata": {},
   "outputs": [
    {
     "name": "stdout",
     "output_type": "stream",
     "text": [
      "Generation 100/100\r"
     ]
    }
   ],
   "source": [
    "\n",
    "population_size = 20\n",
    "max_generations = 100\n",
    "\n",
    "mutation_rate = 0.1\n",
    "crossover_rate = 0.8\n",
    "k_elitism = population_size//10\n",
    "tournament_size = population_size//10\n",
    "columns_per_individual = 10\n",
    "\n",
    "unif_f_norm_values = []\n",
    "gaus_f_norm_values = []\n",
    "mult_f_norm_values = []\n",
    "\n",
    "range_bpc = range(5, 100, 5)\n",
    "\n",
    "for bricks_per_column in range_bpc:\n",
    "    \n",
    "    ### Uniform Distribution Case\n",
    "    number_of_bricks = columns_per_individual*bricks_per_column\n",
    "\n",
    "    unif_brick_heights = np.random.uniform(0, 10, number_of_bricks)\n",
    "    \n",
    "    GBS = GeneticBrickSolver(population_size,\n",
    "                             mutation_rate,\n",
    "                             crossover_rate,\n",
    "                             max_generations,\n",
    "                             tournament_size,\n",
    "                             k_elitism,\n",
    "                             random_seed)\n",
    "    \n",
    "    GBS.solve(unif_brick_heights,\n",
    "              columns_per_individual,\n",
    "              bricks_per_column)\n",
    "    \n",
    "    unif_f_norm_values.append(GBS.fitness_norm(GBS.best_individual))\n",
    "\n",
    "\n",
    "    ### Gaussian Distribution Case\n",
    "    gaus_brick_heights = np.random.normal(10, 1, number_of_bricks)\n",
    "\n",
    "    GBS = GeneticBrickSolver(population_size,\n",
    "                             mutation_rate,\n",
    "                             crossover_rate,\n",
    "                             max_generations,\n",
    "                             tournament_size,\n",
    "                             k_elitism,\n",
    "                             random_seed)\n",
    "    \n",
    "    GBS.solve(gaus_brick_heights,\n",
    "              columns_per_individual,\n",
    "              bricks_per_column)\n",
    "    \n",
    "    gaus_f_norm_values.append(GBS.fitness_norm(GBS.best_individual))\n",
    "\n",
    "    ### Bi-Modal Gaussian Distribution Case\n",
    "    bimod_brick_heights = np.concatenate(\n",
    "        (np.random.normal(5, 1, number_of_bricks//2), \n",
    "         np.random.normal(15, 1, number_of_bricks//2)))\n",
    "    \n",
    "    GBS = GeneticBrickSolver(population_size,\n",
    "                             mutation_rate,\n",
    "                             crossover_rate,\n",
    "                             max_generations,\n",
    "                             tournament_size,\n",
    "                             k_elitism,\n",
    "                             random_seed)\n",
    "    \n",
    "    GBS.solve(bimod_brick_heights,\n",
    "                columns_per_individual,\n",
    "                bricks_per_column)\n",
    "    \n",
    "    mult_f_norm_values.append(GBS.fitness_norm(GBS.best_individual))"
   ]
  },
  {
   "cell_type": "code",
   "execution_count": 14,
   "metadata": {},
   "outputs": [
    {
     "data": {
      "image/png": "[encoded data removed]",
      "text/plain": [
       "<Figure size 640x480 with 1 Axes>"
      ]
     },
     "metadata": {},
     "output_type": "display_data"
    }
   ],
   "source": [
    "plt.figure()\n",
    "plt.plot(range_bpc, unif_f_norm_values, label=\"Uniform Distribution\")\n",
    "plt.plot(range_bpc, gaus_f_norm_values, label=\"N(10,1) Distribution\")\n",
    "plt.plot(range_bpc, mult_f_norm_values, label=\"N((5,15), (1,1)) Distribution\")\n",
    "plt.legend()\n",
    "plt.title(\"Best Fitness Norm vs Bricks per Column\")\n",
    "plt.xlabel(\"Bricks per Column\")\n",
    "plt.ylabel(\"Best Fitness Norm\")\n",
    "plt.show()\n"
   ]
  }
 ],
 "metadata": {
  "kernelspec": {
   "display_name": "env_1",
   "language": "python",
   "name": "python3"
  },
  "language_info": {
   "codemirror_mode": {
    "name": "ipython",
    "version": 3
   },
   "file_extension": ".py",
   "mimetype": "text/x-python",
   "name": "python",
   "nbconvert_exporter": "python",
   "pygments_lexer": "ipython3",
   "version": "3.12.1"
  }
 },
 "nbformat": 4,
 "nbformat_minor": 2
}
