{
 "cells": [
  {
   "cell_type": "markdown",
   "metadata": {},
   "source": [
    "# Analysis of the problem"
   ]
  },
  {
   "cell_type": "markdown",
   "metadata": {},
   "source": [
    "We want to analyze the behaviour of the solver according to different\n",
    "distributions of the bricks' height.\n",
    "Let's consider three distributions:\n",
    "* uniform distribution in $(0,10)$\n",
    "* gaussian distribution with mean 10 and standard deviation 1;\n",
    "* multimodal distribution."
   ]
  },
  {
   "cell_type": "code",
   "execution_count": 26,
   "metadata": {},
   "outputs": [],
   "source": [
    "from _solver import GeneticBrickSolver\n",
    "import random\n",
    "import matplotlib.pyplot as plt\n",
    "import numpy as np"
   ]
  },
  {
   "cell_type": "markdown",
   "metadata": {},
   "source": [
    "To compare the performance of the solver we will set the parameters as\n",
    "follows:"
   ]
  },
  {
   "cell_type": "code",
   "execution_count": 27,
   "metadata": {},
   "outputs": [],
   "source": [
    "population_size = 25\n",
    "max_generations = 500\n",
    "\n",
    "mutation_rate = 0.1\n",
    "crossover_rate = 0.8\n",
    "k_elitism = population_size//10\n",
    "tournament_size = population_size//10\n",
    "\n",
    "columns_per_individual = 10\n",
    "bricks_per_column = 15\n",
    "number_of_bricks = columns_per_individual*bricks_per_column"
   ]
  },
  {
   "cell_type": "markdown",
   "metadata": {},
   "source": [
    "We need a metric that allows us to compare the performance of the solver on different sets of bricks.\n",
    "\n",
    "The fitness of the best individual found is not an appropriate metric to compare solutions of different problems because it is not scale invariant (i.e. we find always a better fitness value if we just devide by a factor $\\lambda$ the bricks' height).\n",
    "\n",
    "Let's define the following fitness function:\n",
    "$$\n",
    "    f_{\\text{norm}}(C_1,\\dots, C_{n}) \n",
    "    = \\frac{f(C_1,\\dots, C_{n})}{H_{max}} \n",
    "    = \\frac{H_{max} -  H_{min}}{H_{max}} \n",
    "$$\n",
    "where $f$ is the original fitness function of the problem, $H_{max}$ and $H_{max}$ are respectively the highest column the lowest column of the individual that contains tha columns $C_1,\\dots, C_{n}$ .\n",
    "\n",
    "\n"
   ]
  },
  {
   "cell_type": "code",
   "execution_count": 28,
   "metadata": {},
   "outputs": [],
   "source": [
    "n_iterations = 20"
   ]
  },
  {
   "cell_type": "markdown",
   "metadata": {},
   "source": [
    "## Uniform Distribution"
   ]
  },
  {
   "cell_type": "markdown",
   "metadata": {},
   "source": [
    "Generate uniformly distributed random heights for the bricks from the range $(0, 10)$"
   ]
  },
  {
   "cell_type": "code",
   "execution_count": 29,
   "metadata": {},
   "outputs": [
    {
     "name": "stdout",
     "output_type": "stream",
     "text": [
      "Generation 500/500 (100.0%)\n",
      "\n",
      "Uniform distribution\n",
      "Mean f_norm:  0.016990636636163528\n",
      "Standard deviation of f_norm:  0.005585095878259274\n",
      "\n",
      "\n"
     ]
    }
   ],
   "source": [
    "f_norm_values = []\n",
    "for _ in range(n_iterations):\n",
    "    unif_brick_heights = [random.uniform(0,10) for _ in range(number_of_bricks)]\n",
    "    GBS = GeneticBrickSolver(population_size, mutation_rate, crossover_rate, max_generations, tournament_size, k_elitism)\n",
    "    GBS.solve(unif_brick_heights, columns_per_individual, bricks_per_column)\n",
    "    f_norm_values.append(GBS.fitness_norm(GBS.best_individual))\n",
    "\n",
    "mean_f_norm, std_f_norm = np.mean(f_norm_values), np.std(f_norm_values)\n",
    "\n",
    "print(\"\\n\")\n",
    "print(\"Uniform distribution\")\n",
    "print(\"Mean f_norm: \", mean_f_norm)\n",
    "print(\"Standard deviation of f_norm: \", std_f_norm)\n",
    "print(\"\\n\")\n"
   ]
  },
  {
   "cell_type": "markdown",
   "metadata": {},
   "source": [
    "## Gaussian Distribution"
   ]
  },
  {
   "cell_type": "markdown",
   "metadata": {},
   "source": [
    "Generate gaussian distributed random heights for the bricks from the range with mean 10 and standard deviation 1"
   ]
  },
  {
   "cell_type": "code",
   "execution_count": 30,
   "metadata": {},
   "outputs": [
    {
     "name": "stdout",
     "output_type": "stream",
     "text": [
      "Generation 500/500 (100.0%)\n",
      "\n",
      "N(10,1) distribution\n",
      "Mean f_norm:  0.002729348230529368\n",
      "Standard deviation of f_norm:  0.0009471742063719383\n",
      "\n",
      "\n"
     ]
    }
   ],
   "source": [
    "f_norm_values = []\n",
    "for _ in range(n_iterations):\n",
    "    gaus_brick_heights = np.random.normal(10, 1, number_of_bricks)\n",
    "    GBS = GeneticBrickSolver(population_size, mutation_rate, crossover_rate, max_generations, tournament_size, k_elitism)\n",
    "    GBS.solve(gaus_brick_heights, columns_per_individual, bricks_per_column)\n",
    "    f_norm_values.append(GBS.fitness_norm(GBS.best_individual))\n",
    "\n",
    "mean_f_norm, std_f_norm = np.mean(f_norm_values), np.std(f_norm_values)\n",
    "\n",
    "print(\"\\n\")\n",
    "print(\"N(10,1) distribution\")\n",
    "print(\"Mean f_norm: \", mean_f_norm)\n",
    "print(\"Standard deviation of f_norm: \", std_f_norm)\n",
    "print(\"\\n\")\n"
   ]
  },
  {
   "cell_type": "markdown",
   "metadata": {},
   "source": [
    "# Multimodal distribution"
   ]
  },
  {
   "cell_type": "markdown",
   "metadata": {},
   "source": [
    "Generate multimodal distributed random heights for the bricks from the range with mean 10 and standard deviation 1"
   ]
  },
  {
   "cell_type": "code",
   "execution_count": 31,
   "metadata": {},
   "outputs": [
    {
     "name": "stdout",
     "output_type": "stream",
     "text": [
      "Generation 500/500 (100.0%)\n",
      "\n",
      "N((5,15), (1,1)) distribution\n",
      "Mean f_norm:  0.0176079542897734\n",
      "Standard deviation of f_norm:  0.00692770700190889\n",
      "\n",
      "\n"
     ]
    }
   ],
   "source": [
    "f_norm_values = []\n",
    "for _ in range(n_iterations):\n",
    "    # Generate a bi-modal gaussian distribution mu = (5, 15), sigma = (1,1)\n",
    "    bimod_brick_heights = np.concatenate(\n",
    "        (np.random.normal(5, 1, number_of_bricks//2), \n",
    "         np.random.normal(15, 1, number_of_bricks//2)))\n",
    "    GBS = GeneticBrickSolver(population_size, mutation_rate, crossover_rate, max_generations, tournament_size, k_elitism)\n",
    "    GBS.solve(bimod_brick_heights, columns_per_individual, bricks_per_column)\n",
    "    f_norm_values.append(GBS.fitness_norm(GBS.best_individual))\n",
    "\n",
    "mean_f_norm, std_f_norm = np.mean(f_norm_values), np.std(f_norm_values)\n",
    "\n",
    "print(\"\\n\")\n",
    "print(\"N((5,15), (1,1)) distribution\")\n",
    "print(\"Mean f_norm: \", mean_f_norm)\n",
    "print(\"Standard deviation of f_norm: \", std_f_norm)\n",
    "print(\"\\n\")"
   ]
  }
 ],
 "metadata": {
  "kernelspec": {
   "display_name": "env_1",
   "language": "python",
   "name": "python3"
  },
  "language_info": {
   "codemirror_mode": {
    "name": "ipython",
    "version": 3
   },
   "file_extension": ".py",
   "mimetype": "text/x-python",
   "name": "python",
   "nbconvert_exporter": "python",
   "pygments_lexer": "ipython3",
   "version": "3.12.1"
  }
 },
 "nbformat": 4,
 "nbformat_minor": 2
}
