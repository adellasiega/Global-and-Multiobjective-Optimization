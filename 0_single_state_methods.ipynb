{
 "cells": [
  {
   "cell_type": "markdown",
   "metadata": {},
   "source": [
    "# Single state methods\n",
    "\n",
    "Suppose that we have the following maximization problem:\n",
    "\n",
    "$$\n",
    "    \\underset{x \\in \\mathbb{S}}{\\operatorname{\\argmax}} \\; f(x)\n",
    "$$\n",
    "\n",
    "where $f$ is called fitenss function and measures the \"quality\" of a solution.\n",
    "\n",
    "It could be very difficult to find the optimal solution $x_{optimal}$.\n",
    "\n",
    "Now, suppose that the set of solutions $\\mathbb{S}$ is not empty and let $x_1$ be a sub-optimal solutions such that $f(x_1) \\leq f(x_{optimal})$. Our goal is to improve our candidate solution, i.e. minimize the distance between $f(x_{candidate})$ and $f(x_{optimal})$.\n",
    "\n",
    "The following problem is a trivial problem but it is usefull to introduce concepts and methods about optimization."
   ]
  },
  {
   "cell_type": "markdown",
   "metadata": {},
   "source": [
    "## OneMax problem\n",
    "Let $\\mathbb{S} = \\{0,1\\}^n$, the size of the space is $2^n$.\n",
    "\n",
    "Let $x \\in \\mathbb{S}$, the function $f$ is defined as the number of ones contained in x.\n",
    "\n",
    "Clearly, $$x_{optimal} = 1^n$$ \n"
   ]
  },
  {
   "cell_type": "code",
   "execution_count": 41,
   "metadata": {},
   "outputs": [
    {
     "name": "stdout",
     "output_type": "stream",
     "text": [
      "The fitness of x=[1, 0, 1, 1] is 3.\n"
     ]
    }
   ],
   "source": [
    "import random\n",
    "\n",
    "class OneMaxProblem:\n",
    "    '''\n",
    "        A simple class for the OneMax problem.\n",
    "    '''\n",
    "    def __init__(self, n):\n",
    "        self.n = n\n",
    "\n",
    "    def fitness(self, x):\n",
    "        return len([digit for digit in x if digit == 1])\n",
    "    \n",
    "problem = OneMaxProblem(n=4)\n",
    "x = [1, 0, 1, 1]\n",
    "print(f\"The fitness of x={x} is {problem.fitness(x)}.\")\n"
   ]
  },
  {
   "cell_type": "markdown",
   "metadata": {},
   "source": [
    "## Random Search\n",
    "\n",
    "Random Search method is based on generating randomly new solutions and then it returns the best one.\n",
    "\n",
    "Let's add a method to the OneMaxProblem class in order to generate a random binary list of fixed length."
   ]
  },
  {
   "cell_type": "code",
   "execution_count": 42,
   "metadata": {},
   "outputs": [],
   "source": [
    "def random_solution(self):\n",
    "    return [random.randint(0, 1) for _ in range(self.n)]\n",
    "\n",
    "OneMaxProblem.random_solution = random_solution"
   ]
  },
  {
   "cell_type": "code",
   "execution_count": 43,
   "metadata": {},
   "outputs": [],
   "source": [
    "def random_search(problem, max_evaluations):\n",
    "    '''\n",
    "        A simple random search algorithm for the OneMax problem.\n",
    "        The termination condition is the number of evaluations.\n",
    "    '''\n",
    "    best_x = None # best solution found so far\n",
    "    best_fitness = -1 # fitness of the best solution found\n",
    "    evaluations = 0 # number of solutions evaluated\n",
    "    while evaluations < max_evaluations: # termination condition\n",
    "        x = problem.random_solution() # generate a random solution\n",
    "        x_fitness = problem.fitness(x) # evaluate the solution\n",
    "        evaluations += 1 # increase the counter\n",
    "        if x_fitness > best_fitness: # if we found a better solution\n",
    "            best_x = x.copy() # update the best solution\n",
    "            best_fitness = x_fitness # update the fitness of the best solution\n",
    "    \n",
    "    return (best_x, best_fitness)"
   ]
  },
  {
   "cell_type": "code",
   "execution_count": 44,
   "metadata": {},
   "outputs": [
    {
     "data": {
      "text/plain": [
       "([0, 1, 1, 1], 3)"
      ]
     },
     "execution_count": 44,
     "metadata": {},
     "output_type": "execute_result"
    }
   ],
   "source": [
    "random_search(problem, max_evaluations=4)"
   ]
  },
  {
   "cell_type": "markdown",
   "metadata": {},
   "source": [
    "## Hill climbing\n",
    "\n",
    "Hill climbing method is based on the concept of neighbor of a solution.\n",
    "The neighborhood of a binary string $x$ is given by all the strings that are at Hamming distance one from $x$. For example, the neighborhood of $110$ is: $\\{010, 100,111\\}$.\n",
    "\n",
    "Recall that the Hamming distance of two strings is the number of positions at which the corrisponding symbols differ."
   ]
  },
  {
   "cell_type": "code",
   "execution_count": 45,
   "metadata": {},
   "outputs": [],
   "source": [
    "def random_neighbor(self, x):\n",
    "    '''\n",
    "        A function that returns a random neighbor of a solution x at Hamming distance 1.\n",
    "    '''\n",
    "    x_new = x.copy() # copy the solution\n",
    "    i = random.randint(0, self.n-1) # select a random position\n",
    "    x_new[i] = 1 - x_new[i] # flip the i-th bit\n",
    "    return x_new\n",
    "\n",
    "OneMaxProblem.random_neighbor = random_neighbor"
   ]
  },
  {
   "cell_type": "code",
   "execution_count": 46,
   "metadata": {},
   "outputs": [],
   "source": [
    "def hill_climbing(problem, max_evaluations):\n",
    "    '''\n",
    "        A simple hill climbing algorithm for the OneMax problem.\n",
    "        The termination condition is the number of evaluations.\n",
    "    '''\n",
    "    best_x = problem.random_solution() # generate a random solution\n",
    "    best_fitness = problem.fitness(best_x) # evaluate the solution\n",
    "    evaluations = 1 # number of solutions evaluated\n",
    "    while evaluations < max_evaluations: # termination condition\n",
    "        x_neighbor = problem.random_neighbor(best_x) # generate a random neighbor\n",
    "        x_neighbor_fitness = problem.fitness(x_neighbor) # evaluate the neighbor\n",
    "        evaluations += 1 # increase the counter\n",
    "        if x_neighbor_fitness > best_fitness: # if we found a better solution\n",
    "            best_x = x_neighbor.copy() # update the best solution\n",
    "            best_fitness = x_neighbor_fitness # update the fitness of the best solution\n",
    "    \n",
    "    return (best_x, best_fitness)"
   ]
  },
  {
   "cell_type": "code",
   "execution_count": 47,
   "metadata": {},
   "outputs": [
    {
     "data": {
      "text/plain": [
       "([1, 1, 0, 0], 2)"
      ]
     },
     "execution_count": 47,
     "metadata": {},
     "output_type": "execute_result"
    }
   ],
   "source": [
    "hill_climbing(problem, max_evaluations=4)"
   ]
  },
  {
   "cell_type": "markdown",
   "metadata": {},
   "source": [
    "## Simulated annealing\n",
    "\n",
    "This Simulated annealing is based on the Hill climbing method. In Simulated annealing it is allowed to select (with a low probability) a solution with a lower fitness. The probability, at step $i$, of selecting the solution with lower fitness,\n",
    "$$\n",
    "p(x) = exp\\left({\\frac{f(x) - f(b)}{T_i}}\\right)\n",
    "$$ \n",
    "where $x$ is the current candidate solution, $b$ is the best solution found so far and T is an array of (decreasing) temperatures.\n",
    "This method reduces the risk of getting stuck in a local optimum.\n",
    "\n",
    "It does not make sense to use Simulated annealing to solve OneMax problem because Hill climbing guarantees to find the optimal solution."
   ]
  },
  {
   "cell_type": "code",
   "execution_count": 48,
   "metadata": {},
   "outputs": [],
   "source": [
    "import math\n",
    "\n",
    "def simulated_annealing(problem, temperature_schedule, max_evaluations):\n",
    "    '''\n",
    "        A simple simulated annealing algorithm for a generic problem.\n",
    "        The termination condition is the number of evaluations.\n",
    "    '''\n",
    "    best_x = problem.random_solution() # generate a random solution\n",
    "    best_fitness = problem.fitness(best_x) # evaluate the solution\n",
    "    evaluations = 1 # number of solutions evaluated\n",
    "    while evaluations < max_evaluations: # termination condition\n",
    "        x_neighbor = problem.random_neighbor(best_x) # generate a random neighbor\n",
    "        x_neighbor_fitness = problem.fitness(x_neighbor) # evaluate the neighbor\n",
    "        evaluations += 1 # increase the counter\n",
    "        if x_neighbor_fitness > best_fitness: # if we found a better solution\n",
    "            best_x = x_neighbor.copy() # update the best solution\n",
    "            best_fitness = x_neighbor_fitness # update the fitness of the best solution\n",
    "        elif random.random() < math.exp((x_neighbor_fitness - best_fitness) / temperature_schedule(evaluations)):\n",
    "            best_x = x_neighbor.copy()\n",
    "    \n",
    "    return (best_x, best_fitness)"
   ]
  }
 ],
 "metadata": {
  "kernelspec": {
   "display_name": "base",
   "language": "python",
   "name": "python3"
  },
  "language_info": {
   "codemirror_mode": {
    "name": "ipython",
    "version": 3
   },
   "file_extension": ".py",
   "mimetype": "text/x-python",
   "name": "python",
   "nbconvert_exporter": "python",
   "pygments_lexer": "ipython3",
   "version": "3.11.5"
  }
 },
 "nbformat": 4,
 "nbformat_minor": 2
}
