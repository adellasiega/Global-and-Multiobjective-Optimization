{
 "cells": [
  {
   "cell_type": "markdown",
   "metadata": {},
   "source": [
    "# Estimation of Distribution Algorithms\n",
    "\n",
    "Genetic algorithms generate new candidate solutions using an implicit distribution defined by one or more variation operators (selection, crossover, mutation, etc.), whereas EDAs use an explicit probability distribution in order to sample the search space.\n",
    "\n",
    "In other words, this is an indirect way of performing genetic operations on the individuals.\n",
    "\n",
    "The procedure is the following:\n",
    "\n",
    "* initialize a model $\\mathcal{M}_0$ to represent a uniform distribution over the search space\n",
    "* while a termination criteria is not met:\n",
    "    - generate a population $P = \\beta(\\mathcal{M}_t)$ of $N$ candidate solutions, where $\\beta$ is a sampling operator;\n",
    "    - using a selection operator $S$, define the selected population as $S(P)$ containing $k$ individuals with $k<N$;\n",
    "    - the updated model is defined as $\\mathcal{M}_{t+1} = \\alpha(P, S, \\mathcal{M}_{t})$, where $\\alpha$ is a model-building operator."
   ]
  },
  {
   "cell_type": "markdown",
   "metadata": {},
   "source": [
    "\n",
    "## Univariate EDAs\n",
    "\n",
    "Let's assume that the decision variables are indpendent. In this case, the distribution of the data can be written as \n",
    "\n",
    "$$\n",
    "    p(X_1, \\dots, X_m) = \\prod_{i=1}^N p(X_i)\n",
    "$$\n",
    "\n",
    "where $m$ is the number of variables.\n",
    "\n",
    "The multivariate distribution of the data can be factorized  as the product of $N$ univariate probability distributions.\n",
    "\n",
    "Techniques that use this property are Univariate Marginal Distribution Algorithm (UMDA), Population-Based Incremental Leraning (PBIL) and Compact Genetic (cGA).\n",
    "\n",
    "### UMDA\n",
    "Suppose that $P(t)$ is the population at time $t$ and that $S(t)$ is the selected population containing $k$ individuals.\n",
    "In UMDA, the model building operator $\\alpha$ defines the univariate distributions $p(X_i)$ with $i = 1,\\dots,m$  :\n",
    "$$\n",
    "    p_{t+1}(X_i) = \\frac{1}{k} \\sum_{x \\in S(P(t))}x\n",
    "$$\n",
    "where $k$ is the number of individuals selected by $S$ and $m$ the number of variables.\n",
    "\n",
    "\n",
    "### PBIL\n",
    "\n",
    "\n"
   ]
  }
 ],
 "metadata": {
  "language_info": {
   "name": "python"
  }
 },
 "nbformat": 4,
 "nbformat_minor": 2
}
