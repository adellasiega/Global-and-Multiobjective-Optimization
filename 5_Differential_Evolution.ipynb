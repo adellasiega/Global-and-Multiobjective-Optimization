{
 "cells": [
  {
   "cell_type": "markdown",
   "id": "accredited-valve",
   "metadata": {},
   "source": [
    "# Differential Evolution\n",
    "\n",
    "Differential evolution is used for the solution of real-valued optimization problems. \n",
    "\n",
    "The search space is $\\mathbb{R}^m$ for some $m \\in \\mathbb{N}$. The population is formed by $n$ individuals represented as follows:\n",
    "$$\n",
    "    \\mathbf{x} = \\left(x^1, \\dots, x^m \\right) \\in \\mathbb{R}^m\n",
    "$$\n",
    "\n",
    "## Differential mutation\n",
    "Select three solution from the current population: $\\mathbf{a}, \\mathbf{b}, \\mathbf{c}$.\n",
    "\n",
    "Let's define the donor vector $\\mathbf{d}$ as\n",
    "$$\n",
    "    \\mathbf{d} = \\mathbf{a} + F \\cdot \\left(\\mathbf{b} - \\mathbf{c} \\right)\n",
    "$$\n",
    "where $F \\in [0,2]$ is called mutation factor.\n",
    "\n",
    "## Binomial crossover\n",
    "Select one candidate solution $\\mathbf{s}$ from the current population.\n",
    "The solution $\\mathbf{s}$ and the donor vector $\\mathbf{d}$ are combined in a trial vector $\\mathbf{t}$ which is defined as follows:\n",
    "$$\n",
    "    \\mathbf{t}^j = \n",
    "    \\begin{cases}\n",
    "    \\mathbf{d}^j & \\text{if} \\;\\; rnd^j \\leq p_{CR} \\;\\; \\text{or} \\;\\; I_{rnd} == j \\\\\n",
    "    \\mathbf{s}^j & \\text{otherwise}\n",
    "    \\end{cases}\n",
    "$$\n",
    "\n",
    "where $p_{CR}$ is the crossover probability, $I_{rnd} \\in \\{  1, \\dots, m\\}$ is a randomly selected index and $rnd$ are random numbers in $[0,1]$.\n",
    "\n",
    "## DE selection\n",
    "Given the parent $\\mathbf{s}$ and the trial vector $\\mathbf{t}_i$, selection is done by keeping only the individual with the best fitness:\n",
    "\n",
    "- $\\mathbf{s}$ is kept if it is fitter than $\\mathbf{t}$;\n",
    "- otherwise, $\\mathbf{t}$ replaces $\\mathbf{s}$"
   ]
  },
  {
   "cell_type": "markdown",
   "id": "8401e108",
   "metadata": {},
   "source": [
    "# DE on the Ackley function\n",
    "\n",
    "The Ackley function in two dimensions is defined as:\n",
    "$$\n",
    "f(x, y) = -20\\,\\mathrm{exp}\\left(-0.2 \\sqrt{0.5(x^2 + y^2)}\\right) - \\mathrm{exp}\\left( 0.5 (\\cos(2\\pi x) + \\cos(2\\pi y))\\right) + e + 20\n",
    "$$\n",
    "the search space is $[-5, 5]^2$ and the global optimum is in $(0,0)$.\n",
    "\n",
    "The function is characterized by a large number of local minima."
   ]
  },
  {
   "cell_type": "code",
   "execution_count": 10,
   "id": "planned-product",
   "metadata": {},
   "outputs": [],
   "source": [
    "import numpy as np\n",
    "import random\n",
    "import matplotlib.pyplot as plt\n",
    "import ipywidgets as widgets\n",
    "from ipywidgets import interact\n",
    "\n",
    "\n",
    "class DifferentialEvolution():\n",
    "    '''\n",
    "    Differential Evolution algorithm for minimizing a function of several variables.\n",
    "    Individual is represented as a vector of real numbers x=(x1, x2, ...).\n",
    "    '''\n",
    "    def __init__(self, pop_size, dim, bounds, fitness):\n",
    "        self.pop_size = pop_size # number of individuals in the population\n",
    "        self.dim = dim # dimension on the search space\n",
    "        self.bounds = bounds # bound of the search space to be specified \n",
    "                             # as a list of tuples: [(min_x1, min_x2, ...), (max_x1, max_x2, ...)]\n",
    "        self.fitness = fitness # function to be minimized \n",
    "        self.pop = None\n",
    "        self.best_individual = None\n",
    "        self.best_fitness = None\n",
    "        self.history = []\n",
    "\n",
    "    \n",
    "    def save_3D_plot(self):\n",
    "        '''\n",
    "        Plot the population in 3D and save the image in img/de.\n",
    "        '''\n",
    "        if self.dim != 2:\n",
    "            raise Exception(\"Can only plot 3D for dim = 2\")\n",
    "        \n",
    "        ax = plt.figure(figsize=(4,4)).add_subplot(projection='3d')\n",
    "        xvals = np.linspace(-5, 5, 201)\n",
    "        yvals = np.linspace(-5, 5, 201)\n",
    "        xx, yy = np.meshgrid(xvals, yvals)\n",
    "        z = self.fitness([xx, yy])\n",
    "        ax.plot_surface(xx, yy, z, antialiased=True, alpha=0.2)\n",
    "        x_pop = [p[0] for p in self.pop]\n",
    "        y_pop = [p[1] for p in self.pop]\n",
    "        ax.scatter(x_pop, y_pop, c=\"red\")\n",
    "        plt.title(\"Generation \" + str(len(self.history)))\n",
    "        plt.savefig(\"img/de/generation_\" + str(len(self.history)) + \".png\")\n",
    "        plt.close()\n",
    "\n",
    "\n",
    "    def plot_generations(self):\n",
    "        '''\n",
    "        Plot a slider to visualize the evolution of the population.\n",
    "        Each population is represented by the image saved in img/de.\n",
    "        '''\n",
    "        def print_results(i):\n",
    "            plt.figure(figsize=(4,4))\n",
    "            plt.imshow(plt.imread(\"img/de/generation_\" + str(i) + \".png\"))\n",
    "            plt.show()\n",
    "        interact(print_results, i=widgets.IntSlider(min=1,max=len(self.history),step=1,value=0))\n",
    "        plt.show()\n",
    "\n",
    "    \n",
    "    def update_best(self):\n",
    "        '''\n",
    "        Update the best individual and its fitness\n",
    "        '''\n",
    "        self.best_individual = min(self.pop, key = self.fitness)\n",
    "        self.best_fitness = self.fitness(self.best_individual)\n",
    "        self.history.append([self.best_individual, self.best_fitness])\n",
    "\n",
    "\n",
    "    def init_pop(self):\n",
    "        '''\n",
    "        Initialize the population with random individuals\n",
    "        '''\n",
    "        if self.pop is None:\n",
    "            self.pop = []\n",
    "            for i in range(self.pop_size):\n",
    "                new_individual = np.random.uniform(self.bounds[0], self.bounds[1], self.dim)\n",
    "                self.pop.append(new_individual)\n",
    "            self.update_best()\n",
    "\n",
    "    def mutation(self, F):\n",
    "        '''\n",
    "        Mutation is performed by randomly selecting three individuals from the population\n",
    "        and creating a donor vector by adding the difference between two of them to the third.\n",
    "        '''\n",
    "        a,b,c = random.choices(self.pop, k=3)\n",
    "        return a + F * (b - c)\n",
    "    \n",
    "    def crossover(self, solution, donor, p_cr):\n",
    "        '''\n",
    "        Crossover is performed by randomly selecting a position I_rnd in the donor vector\n",
    "        and replacing the corresponding value in the solution vector with the value\n",
    "        from the donor vector.\n",
    "        For the other postions, the value from the donor vector is kept with probability p_cr.\n",
    "        Otherwise, the value from the solution vector is kept.\n",
    "        '''\n",
    "        I_rnd = np.random.randint(0, self.dim-1)\n",
    "        t = np.zeros(self.dim)\n",
    "        for i in range(self.dim):\n",
    "            if np.random.random() < p_cr:\n",
    "                t[i] = donor[i]\n",
    "            else:\n",
    "                t[i] = solution[i]\n",
    "        t[I_rnd] = donor[I_rnd]\n",
    "        return t\n",
    "\n",
    "    def selection(self, trial, solution):\n",
    "        if self.fitness(trial) < self.fitness(solution):\n",
    "            return trial\n",
    "        else:\n",
    "            return solution\n",
    "    \n",
    "    def run(self, F, p_cr, max_iter):\n",
    "        '''\n",
    "        For each iteration, the mutation/crossover/selection is \n",
    "        applied to each individual in the population creating a new population.\n",
    "        '''\n",
    "        for j in range(max_iter):\n",
    "            self.save_3D_plot()\n",
    "            next_gen = []\n",
    "            for i in range(self.pop_size):\n",
    "                individual = self.pop[i]\n",
    "                donor = self.mutation(F)\n",
    "                trial = self.crossover(individual, donor, p_cr)\n",
    "                next_gen.append(self.selection(trial, individual))\n",
    "            self.pop = next_gen\n",
    "            self.update_best()"
   ]
  },
  {
   "cell_type": "code",
   "execution_count": 11,
   "id": "focal-webcam",
   "metadata": {},
   "outputs": [],
   "source": [
    "def ackley(x,y):\n",
    "    return -20 * np.exp(-0.2 * np.sqrt(0.5 * (x**2 + y**2))) - np.exp(0.5 * (np.cos(2 * np.pi * x) + np.cos(2 * np.pi * y))) + np.e + 20"
   ]
  },
  {
   "cell_type": "code",
   "execution_count": 12,
   "id": "ed38b45e",
   "metadata": {},
   "outputs": [],
   "source": [
    "DE = DifferentialEvolution(pop_size=100, dim=2, bounds=[[-5,-5], [5,5]], fitness= lambda individual : ackley(*individual))\n",
    "DE.init_pop()\n",
    "DE.run(F=1.3, p_cr=0.5, max_iter=50)"
   ]
  },
  {
   "cell_type": "code",
   "execution_count": 13,
   "id": "78a217d7",
   "metadata": {},
   "outputs": [
    {
     "data": {
      "application/vnd.jupyter.widget-view+json": {
       "model_id": "9eaccd79faef4990971b7809aaca78f1",
       "version_major": 2,
       "version_minor": 0
      },
      "text/plain": [
       "interactive(children=(IntSlider(value=1, description='i', max=51, min=1), Output()), _dom_classes=('widget-int…"
      ]
     },
     "metadata": {},
     "output_type": "display_data"
    },
    {
     "data": {
      "text/plain": [
       "<Figure size 400x400 with 0 Axes>"
      ]
     },
     "metadata": {},
     "output_type": "display_data"
    },
    {
     "data": {
      "text/plain": [
       "<Figure size 400x400 with 0 Axes>"
      ]
     },
     "metadata": {},
     "output_type": "display_data"
    },
    {
     "data": {
      "text/plain": [
       "<Figure size 400x400 with 0 Axes>"
      ]
     },
     "metadata": {},
     "output_type": "display_data"
    }
   ],
   "source": [
    "DE.plot_generations()"
   ]
  }
 ],
 "metadata": {
  "kernelspec": {
   "display_name": "Python 3.10.6 ('global-opt')",
   "language": "python",
   "name": "python3"
  },
  "language_info": {
   "codemirror_mode": {
    "name": "ipython",
    "version": 3
   },
   "file_extension": ".py",
   "mimetype": "text/x-python",
   "name": "python",
   "nbconvert_exporter": "python",
   "pygments_lexer": "ipython3",
   "version": "3.12.1"
  },
  "vscode": {
   "interpreter": {
    "hash": "299dfacaaaab6c65c81b99ab9811d8dbab67cadcf38014d1ae372d1b626b1582"
   }
  }
 },
 "nbformat": 4,
 "nbformat_minor": 5
}
