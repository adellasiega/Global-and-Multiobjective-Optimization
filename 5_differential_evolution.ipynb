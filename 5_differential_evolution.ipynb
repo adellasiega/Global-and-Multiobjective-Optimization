{
 "cells": [
  {
   "cell_type": "markdown",
   "id": "accredited-valve",
   "metadata": {},
   "source": [
    "# Differential Evolution\n",
    "\n",
    "Differential evolution is used for the solution of real-valued optimization problems. \n",
    "\n",
    "The search space is $\\mathbb{R}^m$ for some $m \\in \\mathbb{N}$. The population is formed by $n$ individuals represented as follows:\n",
    "$$\n",
    "    \\mathbf{x} = \\left(x^1, \\dots, x^m \\right) \\in \\mathbb{R}^m\n",
    "$$\n",
    "\n",
    "## Differential mutation\n",
    "Select three solution from the current population: $\\mathbf{a}, \\mathbf{b}, \\mathbf{c}$.\n",
    "\n",
    "Let's define the donor vector $\\mathbf{d}$ as\n",
    "$$\n",
    "    \\mathbf{d} = \\mathbf{a} + F \\cdot \\left(\\mathbf{b} - \\mathbf{c} \\right)\n",
    "$$\n",
    "where $F \\in [0,2]$ is called mutation factor.\n",
    "\n",
    "## Binomial crossover\n",
    "Select one candidate solution $\\mathbf{s}$ from the current population.\n",
    "The solution $\\mathbf{s}$ and the donor vector $\\mathbf{d}$ are combined in a trial vector $\\mathbf{t}$ which is defined as follows:\n",
    "$$\n",
    "    \\mathbf{t}^j = \n",
    "    \\begin{cases}\n",
    "    \\mathbf{d}^j & \\text{if} \\;\\; rnd^j \\leq p_{CR} \\;\\; \\text{or} \\;\\; I_{rnd} == j \\\\\n",
    "    \\mathbf{s}^j & \\text{otherwise}\n",
    "    \\end{cases}\n",
    "$$\n",
    "\n",
    "where $p_{CR}$ is the crossover probability, $I_{rnd} \\in \\{  1, \\dots, m\\}$ is a randomly selected index and $rnd$ are random numbers in $[0,1]$.\n",
    "\n",
    "## DE selection\n",
    "Given the parent $\\mathbf{s}$ and the trial vector $\\mathbf{t}_i$, selection is done by keeping only the individual with the best fitness:\n",
    "\n",
    "- $\\mathbf{s}$ is kept if it is fitter than $\\mathbf{t}$;\n",
    "- otherwise, $\\mathbf{t}$ replaces $\\mathbf{s}$"
   ]
  },
  {
   "cell_type": "markdown",
   "id": "8401e108",
   "metadata": {},
   "source": [
    "# DE on the Ackley function\n",
    "\n",
    "The Ackley function in two dimensions is defined as:\n",
    "$$\n",
    "f(x, y) = -20\\,\\mathrm{exp}\\left(-0.2 \\sqrt{0.5(x^2 + y^2)}\\right) - \\mathrm{exp}\\left( 0.5 (\\cos(2\\pi x) + \\cos(2\\pi y))\\right) + e + 20\n",
    "$$\n",
    "the search space is $[-5, 5]^2$ and the global optimum is in $(0,0)$.\n",
    "\n",
    "The function is characterized by a large number of local minima."
   ]
  },
  {
   "cell_type": "code",
   "execution_count": 10,
   "id": "planned-product",
   "metadata": {},
   "outputs": [],
   "source": [
    "import numpy as np\n",
    "import random\n",
    "import matplotlib.pyplot as plt\n",
    "import ipywidgets as widgets\n",
    "from ipywidgets import interact\n",
    "\n",
    "\n",
    "class DifferentialEvolution():\n",
    "    '''\n",
    "    Differential Evolution algorithm for minimizing a function of several variables.\n",
    "    Individual is represented as a vector of real numbers x=(x1, x2, ...).\n",
    "    '''\n",
    "    def __init__(self, pop_size, dim, bounds, fitness):\n",
    "        self.pop_size = pop_size # number of individuals in the population\n",
    "        self.dim = dim # dimension on the search space\n",
    "        self.bounds = bounds # bound of the search space to be specified \n",
    "                             # as a list of tuples: [(min_x1, min_x2, ...), (max_x1, max_x2, ...)]\n",
    "        self.fitness = fitness # function to be minimized \n",
    "        self.pop = None\n",
    "        self.best_individual = None\n",
    "        self.best_fitness = None\n",
    "        self.history = []\n",
    "\n",
    "    \n",
    "    def save_3D_plot(self):\n",
    "        '''\n",
    "        Plot the population in 3D and save the image in img/de.\n",
    "        '''\n",
    "        if self.dim != 2:\n",
    "            raise Exception(\"Can only plot 3D for dim = 2\")\n",
    "        \n",
    "        ax = plt.figure(figsize=(4,4)).add_subplot(projection='3d')\n",
    "        xvals = np.linspace(-5, 5, 201)\n",
    "        yvals = np.linspace(-5, 5, 201)\n",
    "        xx, yy = np.meshgrid(xvals, yvals)\n",
    "        z = self.fitness([xx, yy])\n",
    "        ax.plot_surface(xx, yy, z, antialiased=True, alpha=0.2)\n",
    "        x_pop = [p[0] for p in self.pop]\n",
    "        y_pop = [p[1] for p in self.pop]\n",
    "        ax.scatter(x_pop, y_pop, c=\"red\")\n",
    "        plt.title(\"Generation \" + str(len(self.history)))\n",
    "        plt.savefig(\"img/de/generation_\" + str(len(self.history)) + \".png\")\n",
    "        plt.close()\n",
    "\n",
    "\n",
    "    def plot_generations(self):\n",
    "        '''\n",
    "        Plot a slider to visualize the evolution of the population.\n",
    "        Each population is represented by the image saved in img/de.\n",
    "        '''\n",
    "        def print_results(i):\n",
    "            plt.figure(figsize=(4,4))\n",
    "            plt.imshow(plt.imread(\"img/de/generation_\" + str(i) + \".png\"))\n",
    "            plt.show()\n",
    "        interact(print_results, i=widgets.IntSlider(min=1,max=len(self.history),step=1,value=0))\n",
    "        plt.show()\n",
    "\n",
    "    \n",
    "    def update_best(self):\n",
    "        '''\n",
    "        Update the best individual and its fitness\n",
    "        '''\n",
    "        self.best_individual = min(self.pop, key = self.fitness)\n",
    "        self.best_fitness = self.fitness(self.best_individual)\n",
    "        self.history.append([self.best_individual, self.best_fitness])\n",
    "\n",
    "\n",
    "    def init_pop(self):\n",
    "        '''\n",
    "        Initialize the population with random individuals\n",
    "        '''\n",
    "        if self.pop is None:\n",
    "            self.pop = []\n",
    "            for i in range(self.pop_size):\n",
    "                new_individual = np.random.uniform(self.bounds[0], self.bounds[1], self.dim)\n",
    "                self.pop.append(new_individual)\n",
    "            self.update_best()\n",
    "\n",
    "    def mutation(self, F):\n",
    "        '''\n",
    "        Mutation is performed by randomly selecting three individuals from the population\n",
    "        and creating a donor vector by adding the difference between two of them to the third.\n",
    "        '''\n",
    "        a,b,c = random.choices(self.pop, k=3)\n",
    "        return a + F * (b - c)\n",
    "    \n",
    "    def crossover(self, solution, donor, p_cr):\n",
    "        '''\n",
    "        Crossover is performed by randomly selecting a position I_rnd in the donor vector\n",
    "        and replacing the corresponding value in the solution vector with the value\n",
    "        from the donor vector.\n",
    "        For the other postions, the value from the donor vector is kept with probability p_cr.\n",
    "        Otherwise, the value from the solution vector is kept.\n",
    "        '''\n",
    "        I_rnd = np.random.randint(0, self.dim-1)\n",
    "        t = np.zeros(self.dim)\n",
    "        for i in range(self.dim):\n",
    "            if np.random.random() < p_cr:\n",
    "                t[i] = donor[i]\n",
    "            else:\n",
    "                t[i] = solution[i]\n",
    "        t[I_rnd] = donor[I_rnd]\n",
    "        return t\n",
    "\n",
    "    def selection(self, trial, solution):\n",
    "        if self.fitness(trial) < self.fitness(solution):\n",
    "            return trial\n",
    "        else:\n",
    "            return solution\n",
    "    \n",
    "    def run(self, F, p_cr, max_iter):\n",
    "        '''\n",
    "        For each iteration, the mutation/crossover/selection is \n",
    "        applied to each individual in the population creating a new population.\n",
    "        '''\n",
    "        for j in range(max_iter):\n",
    "            self.save_3D_plot()\n",
    "            next_gen = []\n",
    "            for i in range(self.pop_size):\n",
    "                individual = self.pop[i]\n",
    "                donor = self.mutation(F)\n",
    "                trial = self.crossover(individual, donor, p_cr)\n",
    "                next_gen.append(self.selection(trial, individual))\n",
    "            self.pop = next_gen\n",
    "            self.update_best()"
   ]
  },
  {
   "cell_type": "code",
   "execution_count": 11,
   "id": "focal-webcam",
   "metadata": {},
   "outputs": [],
   "source": [
    "def ackley(x,y):\n",
    "    return -20 * np.exp(-0.2 * np.sqrt(0.5 * (x**2 + y**2))) - np.exp(0.5 * (np.cos(2 * np.pi * x) + np.cos(2 * np.pi * y))) + np.e + 20"
   ]
  },
  {
   "cell_type": "code",
   "execution_count": 12,
   "id": "ed38b45e",
   "metadata": {},
   "outputs": [],
   "source": [
    "DE = DifferentialEvolution(pop_size=100, dim=2, bounds=[[-5,-5], [5,5]], fitness= lambda individual : ackley(*individual))\n",
    "DE.init_pop()\n",
    "DE.run(F=1.3, p_cr=0.5, max_iter=50)"
   ]
  },
  {
   "cell_type": "code",
   "execution_count": 13,
   "id": "78a217d7",
   "metadata": {},
   "outputs": [
    {
     "data": {
      "application/vnd.jupyter.widget-view+json": {
       "model_id": "9eaccd79faef4990971b7809aaca78f1",
       "version_major": 2,
       "version_minor": 0
      },
      "text/plain": [
       "interactive(children=(IntSlider(value=1, description='i', max=51, min=1), Output()), _dom_classes=('widget-int…"
      ]
     },
     "metadata": {},
     "output_type": "display_data"
    },
    {
     "data": {
      "text/plain": [
       "<Figure size 400x400 with 0 Axes>"
      ]
     },
     "metadata": {},
     "output_type": "display_data"
    },
    {
     "data": {
      "text/plain": [
       "<Figure size 400x400 with 0 Axes>"
      ]
     },
     "metadata": {},
     "output_type": "display_data"
    },
    {
     "data": {
      "text/plain": [
       "<Figure size 400x400 with 0 Axes>"
      ]
     },
     "metadata": {},
     "output_type": "display_data"
    }
   ],
   "source": [
    "DE.plot_generations()"
   ]
  },
  {
   "cell_type": "markdown",
   "id": "included-genetics",
   "metadata": {},
   "source": [
    "## Particle Swarm Optimization\n",
    "\n",
    "First of all, we start by setting a series of parameters for PSO"
   ]
  },
  {
   "cell_type": "code",
   "execution_count": 14,
   "id": "colonial-documentation",
   "metadata": {},
   "outputs": [],
   "source": [
    "c_soc = 1.49445\n",
    "c_cog = 1.49445\n",
    "w = 0.8"
   ]
  },
  {
   "cell_type": "markdown",
   "id": "breathing-monitoring",
   "metadata": {},
   "source": [
    "We can define how to update the position. Most of the code is to deal with the case when a particle goes outside the boundary of the search space. In this case the approach that we will take is the \"dampened\" one."
   ]
  },
  {
   "cell_type": "code",
   "execution_count": 15,
   "id": "satisfactory-dublin",
   "metadata": {},
   "outputs": [],
   "source": [
    "def update_position(position, velocity, boundaries):\n",
    "    new_position = position + velocity\n",
    "    for i, b in enumerate(boundaries):\n",
    "        if new_position[i] < b[0]:\n",
    "            new_position[i] = b[0]\n",
    "            velocity[i] = - np.random.random() * velocity[i]\n",
    "        elif new_position[i] > b[1]:\n",
    "            new_position[i] = b[1]\n",
    "            velocity[i] = - np.random.random() * velocity[i]\n",
    "    return new_position"
   ]
  },
  {
   "cell_type": "markdown",
   "id": "infinite-generation",
   "metadata": {},
   "source": [
    "Updating the velocity can be done by splitting the update in the sum of three vectors, the social component, the cognitive component, and the inertia. The rest of the code only have to deal with keeping the velocities inside the allowed range of values."
   ]
  },
  {
   "cell_type": "code",
   "execution_count": 16,
   "id": "chicken-blood",
   "metadata": {},
   "outputs": [],
   "source": [
    "def update_velocity(position, velocity, global_best, local_best, max_velocities):\n",
    "    n = len(velocity)\n",
    "    r1 = np.random.random(n)\n",
    "    r2 = np.random.random(n)\n",
    "    social_component = c_soc * r1 * (global_best - position)\n",
    "    cognitive_component = c_cog * r2 * (local_best - position)\n",
    "    inertia = w*velocity\n",
    "    new_velocity = inertia + social_component + cognitive_component\n",
    "    for i, v in enumerate(max_velocities):\n",
    "        if np.abs(new_velocity[i]) < v[0]:\n",
    "            new_velocity[i] = np.sign(new_velocity[i]) * v[0]\n",
    "        elif np.abs(new_velocity[i]) > v[1]:\n",
    "            new_velocity[i] = np.sign(new_velocity[i]) * v[1]\n",
    "    return new_velocity"
   ]
  },
  {
   "cell_type": "markdown",
   "id": "dietary-approval",
   "metadata": {},
   "source": [
    "PSO can now be define. Differently from DE, in addition to the particle position we need:\n",
    "\n",
    "- the particle velocity\n",
    "- the local best for each particle\n",
    "- the global best\n",
    "\n",
    "The function returns, in addition to the global best, the history of the entire optimization process."
   ]
  },
  {
   "cell_type": "code",
   "execution_count": 17,
   "id": "portable-ensemble",
   "metadata": {},
   "outputs": [],
   "source": [
    "def pso(swarm_size, boundaries, max_velocities, n_iter, fit):\n",
    "    m = len(boundaries)\n",
    "    positions = [np.array([np.random.random() * (b[1] - b[0]) + b[0] for b in boundaries])\n",
    "                 for i in range(0, swarm_size)]\n",
    "    velocities = [np.array([np.random.choice([-1,1]) * np.random.uniform(v[0],v[1])\n",
    "                            for v in max_velocities]) for i in range(0, swarm_size)]\n",
    "    local_best = positions\n",
    "    global_best = min(positions, key=fit)\n",
    "    hist = [positions]\n",
    "    for i in range(0, n_iter):\n",
    "        velocities = [update_velocity(p, v, global_best, lb, max_velocities)\n",
    "                      for p, v, lb in zip(positions, velocities, local_best)]\n",
    "        positions = [update_position(p, v, boundaries) for p, v in zip(positions, velocities)]\n",
    "        local_best = [min([p, lb], key=fit) for p, lb in zip(positions, local_best)]\n",
    "        global_best = min([min(positions, key=fit), global_best], key=fit)\n",
    "        hist.append(positions)\n",
    "    return global_best, hist"
   ]
  },
  {
   "cell_type": "markdown",
   "id": "polar-property",
   "metadata": {},
   "source": [
    "We can now test PSO on the Ackley function:"
   ]
  },
  {
   "cell_type": "code",
   "execution_count": 18,
   "id": "fiscal-invention",
   "metadata": {},
   "outputs": [],
   "source": [
    "np.random.seed(0)\n",
    "best, hist = pso(10, [[-5, 5], [-5, 5]], [[0.001, 1], [0.001, 1]], 50, lambda p: ackley(*p))"
   ]
  },
  {
   "cell_type": "code",
   "execution_count": 19,
   "id": "stable-springfield",
   "metadata": {},
   "outputs": [
    {
     "ename": "NameError",
     "evalue": "name 'plot_ackley' is not defined",
     "output_type": "error",
     "traceback": [
      "\u001b[0;31m---------------------------------------------------------------------------\u001b[0m",
      "\u001b[0;31mNameError\u001b[0m                                 Traceback (most recent call last)",
      "Cell \u001b[0;32mIn[19], line 1\u001b[0m\n\u001b[0;32m----> 1\u001b[0m plot_ackley(hist[\u001b[38;5;241m50\u001b[39m])\n",
      "\u001b[0;31mNameError\u001b[0m: name 'plot_ackley' is not defined"
     ]
    }
   ],
   "source": [
    "plot_ackley(hist[50])"
   ]
  },
  {
   "cell_type": "code",
   "execution_count": null,
   "id": "6878bb28",
   "metadata": {},
   "outputs": [],
   "source": []
  }
 ],
 "metadata": {
  "kernelspec": {
   "display_name": "Python 3.10.6 ('global-opt')",
   "language": "python",
   "name": "python3"
  },
  "language_info": {
   "codemirror_mode": {
    "name": "ipython",
    "version": 3
   },
   "file_extension": ".py",
   "mimetype": "text/x-python",
   "name": "python",
   "nbconvert_exporter": "python",
   "pygments_lexer": "ipython3",
   "version": "3.12.1"
  },
  "vscode": {
   "interpreter": {
    "hash": "299dfacaaaab6c65c81b99ab9811d8dbab67cadcf38014d1ae372d1b626b1582"
   }
  }
 },
 "nbformat": 4,
 "nbformat_minor": 5
}
