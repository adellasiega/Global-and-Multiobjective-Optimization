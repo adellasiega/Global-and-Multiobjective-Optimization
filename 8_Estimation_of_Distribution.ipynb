{
 "cells": [
  {
   "cell_type": "markdown",
   "metadata": {},
   "source": [
    "# Estimation of Distribution Algorithms\n",
    "\n",
    "Genetic algorithms generate new candidate solutions using an implicit distribution defined by one or more variation operators (selection, crossover, mutation, etc.), whereas EDAs use an explicit probability distribution in order to sample the search space.\n",
    "\n",
    "In other words, this is an indirect way of performing genetic operations on the individuals.\n",
    "\n",
    "The procedure is the following:\n",
    "\n",
    "* initialize a model $\\mathcal{M}_0$ to represent a uniform distribution over the search space\n",
    "* while a termination criteria is not met:\n",
    "    - generate a population $P = \\beta(\\mathcal{M}_t)$ of $N$ candidate solutions, where $\\beta$ is a sampling operator;\n",
    "    - using a selection operator $S$, define the selected population as $S(P)$ containing $k$ individuals with $k<N$;\n",
    "    - the updated model is defined as $\\mathcal{M}_{t+1} = \\alpha(P, S, \\mathcal{M}_{t})$, where $\\alpha$ is a model-building operator."
   ]
  },
  {
   "cell_type": "markdown",
   "metadata": {},
   "source": [
    "## Univariate EDAs\n",
    "\n",
    "Let's assume that the decision variables are indpendent. In this case, the distribution of the data can be written as \n",
    "\n",
    "$$\n",
    "    p(X_1, \\dots, X_m) = \\prod_{i=1}^N p(X_i)\n",
    "$$\n",
    "\n",
    "where $m$ is the number of variables.\n",
    "\n",
    "The multivariate distribution of the data can be factorized  as the product of $N$ univariate probability distributions.\n",
    "\n",
    "Techniques that use this property are Univariate Marginal Distribution Algorithm (UMDA), Population-Based Incremental Leraning (PBIL) and Compact Genetic Algorithm (cGA).\n"
   ]
  },
  {
   "cell_type": "markdown",
   "metadata": {},
   "source": [
    "### UMDA\n",
    "Suppose that $P(t)$ is the population at time $t$ and that $S(P(t))$ is the selected population containing $k$ individuals.\n",
    "In UMDA, the model building operator $\\alpha$ that defines the univariate distribution $p(X_i)$ with $i = 1,\\dots,m$ is updated as follows:\n",
    "$$\n",
    "    p_{t+1}(X_i) = \\frac{1}{k} \\sum_{x \\in S(P(t))} x_i\n",
    "$$\n",
    "where $k$ is the number of individuals selected by $S$ and $m$ the number of variables.\n"
   ]
  },
  {
   "cell_type": "markdown",
   "metadata": {},
   "source": [
    "### PBIL\n",
    "In PBA, the model building operator $\\alpha$ defines the univariate distribution $p(X_i)$ with $i = 1,\\dots,m$ is updated as follows:\n",
    "$$\n",
    "    p_{t+1}(X_i) = (1-\\gamma)p_{t}(X_i) + \\frac{\\gamma}{k} \\sum_{x \\in S(P(t))}x_i\n",
    "$$\n",
    "where $k$ is the number of individuals selected by $S$ and $m$ the number of variables. The parameter $\\gamma$ allows to change the distribution gradually.\n",
    "\n",
    "PBIL can be extended to work in continuous spaces. One approach is to discrete each marginal distribution into a fixed number of \"buckets\".\n"
   ]
  },
  {
   "cell_type": "markdown",
   "metadata": {},
   "source": [
    "#### PBIL: Gaussian Extension\n",
    "Instead of using a discrete distribution we can use a Gaussian for each marginal distribution.\n",
    "In that case each distribution is defined by $\\mu_{X_i}, \\sigma_{X_i}^2$\n",
    "\n",
    "We can compute mean and variance in $S(P(t))$, i.e. the current population after the truncated selection.\n",
    "$$\n",
    "    \\mu_{X_i} = \\frac{1}{k} \\sum_{x \\in S(P(t))} x_i \\\\\n",
    "    \\sigma_{X_i} = \\frac{1}{k-1} \\sum_{x \\in S(P(t))} \\left(x_i-\\mu_{X_i}\\right)^2\n",
    "$$\n",
    "\n",
    "The upload works as follows:\n",
    "\n",
    "$$\n",
    "    \\mu_{X_i} \\leftarrow (1-\\gamma)\\mu_{X_i} + \\gamma \\, \\mu_{X_i} \\\\\n",
    "    \n",
    "    \\sigma^{2}_{X_i} \\leftarrow (1-\\gamma)\\sigma^2_{X_i} + \\gamma \\, \\sigma^2_{X_i}\n",
    "$$"
   ]
  },
  {
   "cell_type": "markdown",
   "metadata": {},
   "source": [
    "### Compact Genetic Algorithm\n",
    "\n",
    "cGA operates only over Boolean spaces.\n",
    "\n",
    "Let\n",
    "$$\n",
    "    p(X_i) = Prob(X_i = 1)\n",
    "$$\n",
    "For each pair of individuals $x,y \\in P(t)$, with $f(x) \\geq f(y)$ \n",
    "\n",
    "* if $x_i \\neq v_i $, $x_i = 0$, and $p(X_i)>0$ :\n",
    "$$\n",
    "    p(X_i) \\leftarrow p(X_i) - \\frac{1}{d}\n",
    "$$\n",
    "* if $x_i \\neq v_i $, $x_i = 1$, and $p(X_i)<1$ :\n",
    "$$\n",
    "    p(X_i) \\leftarrow p(X_i) + \\frac{1}{d}\n",
    "$$"
   ]
  }
 ],
 "metadata": {
  "language_info": {
   "name": "python"
  }
 },
 "nbformat": 4,
 "nbformat_minor": 2
}
