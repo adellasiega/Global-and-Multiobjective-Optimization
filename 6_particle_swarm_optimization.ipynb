{
 "cells": [
  {
   "cell_type": "markdown",
   "metadata": {},
   "source": [
    "# Particle Swarm Optimization"
   ]
  },
  {
   "cell_type": "markdown",
   "metadata": {},
   "source": [
    "We have a $m$-dimensional sarch space, usually $\\mathbb{R}^m$.\n",
    "The swarm is composed of $n$ particles, the $i$-th particle is charachterized by:\n",
    "\n",
    "- the position $x_{i}(t)$ at time $t$;\n",
    "\n",
    "- the velocity $v_{i}(t)$ at time $t$.\n",
    "\n",
    "\n",
    "Suppose that our system is updated at each discrte time step $\\Delta t$, the position of each particle is updated as\n",
    "$$\n",
    "    x_i(t+\\Delta t) = x_i(t) + \\Delta t \\;v_i(t)\n",
    "$$\n",
    "\n",
    "If we assume that $\\Delta t = 1$, we have that\n",
    "$$\n",
    "    x_i(t+1) = x_i(t) + \\; v_i(t)\n",
    "$$\n",
    "\n",
    "![v_commponents](img/pso/v_components.png)\n",
    "\n",
    "The velocity of each particle is updated as\n",
    "\n",
    "$$\n",
    "    v_i(t+\\Delta t) = w_{\\text{inertia}} \\; v_i(t) + w_{\\text{social}} \\; r_1 \\odot (g_i - x_i(t)) + w_{\\text{cognitive}} \\; r_2  \\odot (b_i - x_i(t))\n",
    "$$\n",
    "\n",
    "where $\\odot$ denotes the Hadamard product (element-wise product) and $r_1, r_2$ are random vectors in $[0,1]^m$.\n",
    "\n",
    "It is possible to define a behaviour of the particle when it reaches the boundaries of the search space.\n",
    "\n",
    "![boundary conditions](img/pso/boundary.png)"
   ]
  },
  {
   "cell_type": "markdown",
   "metadata": {},
   "source": [
    "# PSO for solving Auckely function"
   ]
  },
  {
   "cell_type": "code",
   "execution_count": 52,
   "metadata": {},
   "outputs": [],
   "source": [
    "import numpy as np\n",
    "import matplotlib.pyplot as plt\n",
    "import ipywidgets as widgets\n",
    "from ipywidgets import interact\n",
    "\n",
    "np.random.seed(0)\n"
   ]
  },
  {
   "cell_type": "code",
   "execution_count": 53,
   "metadata": {},
   "outputs": [],
   "source": [
    "class PSO2d():\n",
    "    def __init__(self, boundaries, max_velocities, fitness_fun):\n",
    "        # Attributes of the problem\n",
    "        self.num_dimensions = 2\n",
    "        self.boundaries = boundaries\n",
    "        self.fitness_fun = fitness_fun\n",
    "\n",
    "        # Parameters of the algorithm\n",
    "        self.swarm_size = None\n",
    "        self.max_velocities = max_velocities\n",
    "        self.c_social = None\n",
    "        self.c_cognitive = None\n",
    "        self.w_inertia = None\n",
    "        self.n_iter = None\n",
    "\n",
    "        # State of the swarm\n",
    "        self.positions = None\n",
    "        self.velocities = None\n",
    "        self.local_best_positions = None #The local best of each particle is the best position it found so far\n",
    "\n",
    "        #Results\n",
    "        self.history = None\n",
    "        self.global_best = None\n",
    "    \n",
    "    def initialize_swarm(self):\n",
    "        '''\n",
    "            Method to randomly initialize the swarm.\n",
    "        '''\n",
    "        self.positions = [np.array([np.random.random() * (b[1] - b[0]) + b[0] \n",
    "                                    for b in self.boundaries])\n",
    "                          for _ in range(0, self.swarm_size)]\n",
    "        \n",
    "        self.velocities = [np.array([np.random.choice([-1,1]) * np.random.uniform(v[0],v[1]) \n",
    "                                     for v in self.max_velocities])\n",
    "                           for _ in range(0, self.swarm_size)]\n",
    "        \n",
    "        self.local_best_positions = self.positions\n",
    "        self.global_best = min(self.positions, key=self.fitness_fun)\n",
    "        self.history = [self.positions]\n",
    "\n",
    "    \n",
    "    def update_position(self, position, velocity):\n",
    "        '''\n",
    "            Method to update the position of a particle.\n",
    "            The damping boundary condition is implemented here.\n",
    "            It returns the updated position.\n",
    "        '''\n",
    "        #Update the position\n",
    "        new_position = position + velocity\n",
    "        #Check if the new position is within the boundaries\n",
    "        for i, b in enumerate(self.boundaries):\n",
    "            if new_position[i] < b[0]:\n",
    "                new_position[i] = b[0]\n",
    "                velocity[i] = - np.random.random() * velocity[i]\n",
    "            elif new_position[i] > b[1]:\n",
    "                new_position[i] = b[1]\n",
    "                velocity[i] = - np.random.random() * velocity[i]\n",
    "        return new_position\n",
    "    \n",
    "    def update_velocity(self, position, velocity, local_best):\n",
    "        '''\n",
    "            Method to update the velocity of a particle.\n",
    "            If the new velocity is outside the boundaries, it is set to the boundary value.\n",
    "            It returns the update velocity.\n",
    "        '''\n",
    "        #Update the velocity\n",
    "        r1 = np.random.random(self.num_dimensions)\n",
    "        r2 = np.random.random(self.num_dimensions)\n",
    "        social_component = self.c_social * r1 * (self.global_best - position)\n",
    "        cognitive_component = self.c_cognitive * r2 * (local_best - position)\n",
    "        inertia = self.w_inertia*velocity\n",
    "        new_velocity = inertia + social_component + cognitive_component\n",
    "        #Check if the new velocity is within the boundaries\n",
    "        for i, v in enumerate(self.max_velocities):\n",
    "            if np.abs(new_velocity[i]) < v[0]:\n",
    "                new_velocity[i] = np.sign(new_velocity[i]) * v[0]\n",
    "            elif np.abs(new_velocity[i]) > v[1]:\n",
    "                new_velocity[i] = np.sign(new_velocity[i]) * v[1]\n",
    "        \n",
    "        return new_velocity\n",
    "\n",
    "    def plot_evolution(self):\n",
    "        '''\n",
    "            Method to plot the evolution of the swarm.\n",
    "            A slider it's used.\n",
    "        '''\n",
    "\n",
    "        def plot_state(time):\n",
    "            pop = self.history[time]\n",
    "            ax = plt.figure(figsize=(20,10)).add_subplot(projection='3d')\n",
    "            xvals = np.linspace(-5, 5, 201)\n",
    "            yvals = np.linspace(-5, 5, 201)\n",
    "            xx, yy = np.meshgrid(xvals, yvals)\n",
    "            z = self.fitness_fun([xx, yy])\n",
    "            ax.plot_surface(xx, yy, z, antialiased=True, alpha=0.2)\n",
    "            x_pop = [p[0] for p in pop]\n",
    "            y_pop = [p[1] for p in pop]\n",
    "            z_pop = [self.fitness_fun(p) for p in pop]\n",
    "            ax.scatter(x_pop, y_pop, z_pop, c=\"red\")\n",
    "            plt.show()\n",
    "        \n",
    "        interact(plot_state, time=widgets.IntSlider(min=1,max=len(self.history)-1,step=1,value=0))\n",
    "        plt.show()\n",
    "\n",
    "    def run(self, swarm_size, c_cognitive, c_social, w_inertia, n_iter):\n",
    "        '''\n",
    "            Method to run the PSO algorithm.\n",
    "        '''\n",
    "        #Set the parameters of the algorithm\n",
    "        self.swarm_size = swarm_size\n",
    "        self.c_cognitive = c_cognitive\n",
    "        self.c_social = c_social\n",
    "        self.w_inertia = w_inertia\n",
    "        self.n_iter = n_iter\n",
    "\n",
    "        #Initialize the swarm\n",
    "        self.initialize_swarm()\n",
    "        \n",
    "        for _ in range(self.n_iter):\n",
    "            #Update the swarm\n",
    "            self.velocities = [self.update_velocity(p, v, lb)\n",
    "                               for p, v, lb in zip(self.positions, self.velocities, self.local_best_positions)]\n",
    "            \n",
    "            self.positions = [self.update_position(p, v)\n",
    "                              for p, v in zip(self.positions, self.velocities)]\n",
    "            \n",
    "            #Update the local best positions  and global best position\n",
    "            self.local_best_positions = [min([p, lb], key=self.fitness_fun)\n",
    "                                         for p, lb in zip(self.positions, self.local_best_positions)]\n",
    "            \n",
    "            self.global_best = min([min(self.positions, key=self.fitness_fun), self.global_best], key=self.fitness_fun)\n",
    "\n",
    "            #Update the history\n",
    "            self.history.append(self.positions)"
   ]
  },
  {
   "cell_type": "markdown",
   "metadata": {},
   "source": [
    "Define the fitnessness function"
   ]
  },
  {
   "cell_type": "code",
   "execution_count": 54,
   "metadata": {},
   "outputs": [],
   "source": [
    "def ackley(x, y):\n",
    "    return -20 * np.exp(-0.2 * np.sqrt(0.5 * (x**2 + y**2))) - np.exp(0.5 * (np.cos(2 * np.pi * x) + np.cos(2 * np.pi * y))) + np.e + 20"
   ]
  },
  {
   "cell_type": "markdown",
   "metadata": {},
   "source": [
    "Run the PSO"
   ]
  },
  {
   "cell_type": "code",
   "execution_count": 55,
   "metadata": {},
   "outputs": [],
   "source": [
    "pso_instance = PSO2d(boundaries=[(-5,5), (-5,5)], max_velocities=[(-1,1), (-1,1)], fitness_fun= lambda x: ackley(*x))\n",
    "pso_instance.run(swarm_size=100, c_cognitive=0.1, c_social=0.1, w_inertia=0.1, n_iter=100)"
   ]
  },
  {
   "cell_type": "code",
   "execution_count": 56,
   "metadata": {},
   "outputs": [
    {
     "data": {
      "application/vnd.jupyter.widget-view+json": {
       "model_id": "f85739d4075f46b9bb33b8d1a206681b",
       "version_major": 2,
       "version_minor": 0
      },
      "text/plain": [
       "interactive(children=(IntSlider(value=1, description='time', min=1), Output()), _dom_classes=('widget-interact…"
      ]
     },
     "metadata": {},
     "output_type": "display_data"
    }
   ],
   "source": [
    "pso_instance.plot_evolution()"
   ]
  }
 ],
 "metadata": {
  "kernelspec": {
   "display_name": "env_1",
   "language": "python",
   "name": "python3"
  },
  "language_info": {
   "codemirror_mode": {
    "name": "ipython",
    "version": 3
   },
   "file_extension": ".py",
   "mimetype": "text/x-python",
   "name": "python",
   "nbconvert_exporter": "python",
   "pygments_lexer": "ipython3",
   "version": "3.12.1"
  }
 },
 "nbformat": 4,
 "nbformat_minor": 2
}
