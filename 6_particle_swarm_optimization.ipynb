{
 "cells": [
  {
   "cell_type": "markdown",
   "metadata": {},
   "source": [
    "# Particle Swarm Optimization"
   ]
  },
  {
   "cell_type": "markdown",
   "metadata": {},
   "source": [
    "We have a $m$-dimensional sarch space, usually $\\mathbb{R}^m$.\n",
    "The swarm is composed of $n$ particles, the $i$-th particle is charachterized by:\n",
    "\n",
    "- the position $x_{i}(t)$ at time $t$;\n",
    "\n",
    "- the velocity $v_{i}(t)$ at time $t$.\n",
    "\n",
    "\n",
    "Suppose that our system is updated at each discrte time step $\\Delta t$, the position of each particle is updated as\n",
    "$$\n",
    "    x_i(t+\\Delta t) = x_i(t) + \\Delta t \\;v_i(t)\n",
    "$$\n",
    "The velocity of each particle is updated as\n",
    "\n",
    "![v_commponents](img/pso/v_components.png)\n",
    "\n",
    "$$\n",
    "    v_i(t+\\Delta t) = w_{\\text{inertia}} \\; v_i(t) + w_{\\text{social}} \\; r_1 \\odot (g_i - x_i(t)) + w_{\\text{cognitive}} \\; r_2  \\odot (b_i - x_i(t))\n",
    "$$\n",
    "\n",
    "where $\\odot$ denotes the Hadamard product (element-wise product) and $r_1, r_2$ are random vectors in $[0,1]^m$.\n",
    "\n",
    "\n",
    "![boundary conditions](img/pso/boundary.png)\n",
    "\n",
    "\n",
    "\n"
   ]
  }
 ],
 "metadata": {
  "language_info": {
   "name": "python"
  }
 },
 "nbformat": 4,
 "nbformat_minor": 2
}
