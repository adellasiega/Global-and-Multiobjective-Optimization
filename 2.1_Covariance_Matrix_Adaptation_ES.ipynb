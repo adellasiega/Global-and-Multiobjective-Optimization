{
 "cells": [
  {
   "cell_type": "markdown",
   "metadata": {},
   "source": [
    "# Covariance Matrix Adaptation - Evolution Strategy\n",
    "\n",
    "CMA-ES is a multivariate EDA using a parametric distribution. To represent the joint distribution CMA-ES uses a multivariate Gaussian, represented as a mean vector $m$ and a covariance matrix $C$.\n",
    "CMA-ES samples from the distribution and then uses the samples to update $m$ and $C$.\n"
   ]
  },
  {
   "cell_type": "markdown",
   "metadata": {},
   "source": [
    "\n",
    "## $(\\frac{\\mu}{\\mu_W}, \\lambda)$ CMA - ES\n",
    "Generate $\\lambda$ individuals from the current distribution with mean vector $m$ and covariance matrix $C$. Keep the $\\mu$ fittest individuals  (truncate selections, since it is an evolution strategy). Use the $\\mu$ selected individuals to update $m$ and $C$.\n",
    "\n",
    "Individuals in CMA-ES are sampled from a multivariate Gaussian distribution with mean $m$ and covariance matrix $C$ and then are scaled by a mutation factor $\\sigma$, called also step size.\n"
   ]
  },
  {
   "cell_type": "markdown",
   "metadata": {},
   "source": [
    "### Update\n",
    "Assume the individuals are ordered w.r.t. fitness with the best one being $x^{(i)}$.\n",
    "A simple way to udpate $m$ and $C$ is\n",
    "$$\n",
    "    z^{(i)} = \\frac{x^{(i)}-m}{\\sigma}\n",
    "$$\n",
    "$$\n",
    "    C \\leftarrow \\frac{1}{\\mu-1} \\sum_{i=1}^{\\mu}\n",
    "    z^{(i)} z^{(i)T}\n",
    "$$\n",
    "$$\n",
    "    m \\leftarrow \\frac{1}{\\mu} \\sum_{i=1}^{\\mu} x^{(i)}\n",
    "$$\n",
    "Note that the algorithm does not use the updated mean vector to recompute $C$. First we update $C$ using the old mean and then we update $m$. This is done in order to limit the risk of premature convergence.\n"
   ]
  },
  {
   "cell_type": "markdown",
   "metadata": {},
   "source": [
    "\n",
    "### Weighted Update\n",
    "We can add weights to the update as follows:\n",
    "$$\n",
    "    C \\leftarrow \\sum_{i=1}^{\\mu} w_i z^{(i)} z^{(i)T}\n",
    "$$\n",
    "$$\n",
    "    m \\leftarrow \\frac{1}{\\mu} \\sum_{i=1}^{\\mu} w_i x^{(i)}\n",
    "$$\n",
    "where\n",
    "$$\n",
    "\n",
    "    w_i = \\ln \\left( \\frac{\\lambda+1}{2i} \\right) / \\sum_{j=1}^{\\mu} \\ln\\left( \\frac{\\lambda+1}{2j} \\right)\n",
    "$$\n"
   ]
  },
  {
   "cell_type": "markdown",
   "metadata": {},
   "source": [
    "\n",
    "### Rank $\\mu$ Update\n",
    "The covariance matrix $C$ can be updated gradually:\n",
    "$$\n",
    "    C \\leftarrow (1-c_{\\mu})C+c_{\\mu} \\underbrace{\\sum_{i=1}^{\\mu} w_i z^{(i)} z^{(i)T}}_{\\text{rank $\\mu$ matrix}}\n",
    "$$\n",
    "\n"
   ]
  },
  {
   "cell_type": "markdown",
   "metadata": {},
   "source": [
    "### Evolution Path\n",
    "\n",
    "We can keep track of where the $m$ has been historically heading in the evolution path\n",
    "vector $p$ which is updated at each time step as\n",
    "\n",
    "$$\n",
    "\n",
    "p \\leftarrow (1-c_c)p + c_c \\frac{m-m_{\\text{old}}}{\\sigma}\n",
    "\n",
    "$$\n",
    "for a learning rate $c_c$.\n",
    "\n",
    "The covariance matrix is updated as\n",
    "\n",
    "$$\n",
    "    C \\leftarrow (1-c_1-c_{\\mu})C + c_1(pp^T) + c_{\\mu} \\sum_{i=1}^{\\mu} w_i z^{(i)} z^{(i)T}\n",
    "$$\n",
    "\n",
    "Here $pp^T$ si a rank 1 matrix (hence the name $c_1$ for its coefficient) indicating the average direction in which the distribution has moved in the past.\n",
    "\n",
    "\n"
   ]
  }
 ],
 "metadata": {
  "language_info": {
   "name": "python"
  }
 },
 "nbformat": 4,
 "nbformat_minor": 2
}
