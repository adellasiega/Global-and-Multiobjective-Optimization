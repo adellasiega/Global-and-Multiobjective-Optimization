{
 "cells": [
  {
   "cell_type": "markdown",
   "metadata": {},
   "source": [
    "# Geometric Semantic Genetic Programming\n"
   ]
  },
  {
   "cell_type": "markdown",
   "metadata": {},
   "source": [
    "## Metric Spaces\n",
    "\n",
    "A **metric space** is an pdered pair $(M,d)$ where M is a set and $d$ is a metric on $M$.\n",
    "\n",
    "A **metric** on $M$ is a function $d: M \\times M \\rightarrow \\mathbb{R}$ satisfying the following axioms for all points $x,y,z \\in M$:\n",
    "\n",
    "* Identity: $\\; d(x,y)=0 \\iff x=y$  \n",
    "* Simmetry: $\\;d(x,y) = d(y,x)$\n",
    "* Triangular inequality: $\\; d(x,z) \\leq d(x,y) + d(y,z)$\n",
    "\n",
    "A **segment** $S$ is defined as\n",
    "$$\n",
    "    S(x,y) = \\{ z \\; | \\; d(x,z) + d(z,y) = d(x,y) \\}\n",
    "$$\n",
    "\n",
    "A **ball** of radius $r$ is defined as\n",
    "$$\n",
    "    B(x,r) = \\{y \\; | \\; d(x,y) \\leq r\\}\n",
    "$$"
   ]
  },
  {
   "cell_type": "markdown",
   "metadata": {},
   "source": [
    "## Geometric Crossover\n",
    "A crossover is said to be geometric if all possible results from the crossover of $x,y$ are inside $S(x,y)$.\n",
    "\n",
    "We have that\n",
    "$$\n",
    "\\text{Geometric Crossover} \\implies \\text{Homologous Crossover}\n",
    "$$\n",
    "because $S(x,x) = \\{x\\}$.\n",
    "\n",
    "The results of a geometric crossover are limited by the *convex hull* of the initial population. This means that using geometric crossover we can only *exploit* the search space.\n"
   ]
  },
  {
   "cell_type": "markdown",
   "metadata": {},
   "source": [
    "## Geometric Mutation\n",
    "\n",
    "A mutations is said to be geometric if all possible results from the mutation  of an individual $x$ are inside $B(x,r)$, where $r$ is fixed.\n",
    "\n",
    "Mutation allows to enlarge the search space and *explore* it."
   ]
  },
  {
   "cell_type": "markdown",
   "metadata": {},
   "source": [
    "## Syntax and Semantics Spaces\n",
    "\n",
    "The *syntax* is the representation of the parsing trees.\n",
    "So far, we applied geometric crossover and geometric mutation to the syntax space.\n",
    "\n",
    "The *semantics* are the actual output that the tree evaluates when we assign a value to the variables.\n",
    "We would like to make operators that are geometric in the semantic space.\n",
    "\n",
    "<img src=\"img/gscrossover.png\" alt=\"gsc\" width=\"400\"/>\n",
    "\n",
    "<img src=\"img/gsmutation.png\" alt=\"gsm\" width=\"400\"/>\n",
    "\n"
   ]
  }
 ],
 "metadata": {
  "language_info": {
   "name": "python"
  }
 },
 "nbformat": 4,
 "nbformat_minor": 2
}
